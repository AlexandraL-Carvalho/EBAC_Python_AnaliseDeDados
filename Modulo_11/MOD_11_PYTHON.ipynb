{
 "cells": [
  {
   "cell_type": "markdown",
   "metadata": {
    "id": "KJqp9AANOCtf"
   },
   "source": [
    "<img src=\"https://raw.githubusercontent.com/andre-marcos-perez/ebac-course-utils/main/media/logo/newebac_logo_black_half.png\" alt=\"ebac-logo\">\n",
    "\n",
    "---\n",
    "\n",
    "# **Módulo** | Python: Projeto Final\n",
    "\n",
    "Professor [André Perez](https://www.linkedin.com/in/andremarcosperez/)\n",
    "\n",
    "Aluna [Alexandra Carvalho](https://www.linkedin.com/in/alexandra-locarvalho/)\n",
    "\n",
    "---"
   ]
  },
  {
   "cell_type": "markdown",
   "metadata": {
    "id": "HzHA91-MnXsI"
   },
   "source": [
    "#**0. Análise de Risco de Crédito: Perfis de Clientes Adimplentes e Inadimplentes**\n"
   ]
  },
  {
   "cell_type": "markdown",
   "metadata": {
    "id": "8jV31mbmp8CT"
   },
   "source": [
    "**Projeto final do curso de Python para Análise de Dados da Ebac**"
   ]
  },
  {
   "cell_type": "markdown",
   "metadata": {
    "id": "Zb-f5zlFozWS"
   },
   "source": [
    "# **1. Descrição**\n"
   ]
  },
  {
   "cell_type": "markdown",
   "metadata": {
    "id": "vpjxTt_0K9V-"
   },
   "source": [
    "No cenário atual das instituições financeiras, a análise de dados de crédito desempenha um papel crucial na avaliação de risco e na tomada de decisões, sendo que a concessão de crédito é uma das principais atividades desenvolvidas pelas instituições financeiras. No entanto, a eficácia dessas análises é frequentemente prejudicada pela falta de compreensão abrangente dos diferentes perfis de clientes adimplentes e inadimplentes. Portanto, surge a seguinte problemática:\n",
    "\n",
    "Como os dados podem auxiliar a identificar padrões de comportamento de cliente adimplentes e inadimplentes com maior precisão? Esta questão é essencial para desenvolver abordagens eficazes na gestão da carteira de crédito, melhorando assim a rentabilidade das instituições e consequentemente a satisfação do cliente.\n",
    "\n",
    "Essa problemática aborda a importância do tratamento correto dos dados, para obter uma análise eficiente para a identificação e previsão do comportamento de pagamento dos clientes, buscando aprimorar as estratégias de gerenciamento de risco."
   ]
  },
  {
   "cell_type": "markdown",
   "metadata": {
    "id": "3ZgMYc-z1l5m"
   },
   "source": [
    "Os dados a serem explorados se encontram no arquivo Python_M10_support material.csv, sendo possível acessar através deste [link](https://raw.githubusercontent.com/andre-marcos-perez/ebac-course-utils/develop/dataset/credito.csv) disponibilizados pelo professor André Perez, esse arquivo contém informações sobre clientes de uma instituição financeira. Iremos explicar a segunda coluna, chamada de **default**, que indica se um cliente é adimplente (default = 0), ou inadimplente (default = 1), ou seja, queremos entender o porque um cliente deixa de honrar com as suas dívidas baseado no comportamento de outros atributos, como salário, escolaridade e movimentação financeira. Uma descrição completa dos atributos está abaixo."
   ]
  },
  {
   "cell_type": "markdown",
   "metadata": {
    "id": "Z5Fd0NSVLnwE"
   },
   "source": [
    "\n",
    "\n",
    "| Coluna  | Descrição |\n",
    "| ------- | --------- |\n",
    "| id      | Número da conta |\n",
    "| default | Indica se o cliente é adimplente (0) ou inadimplente (1) |\n",
    "| idade   | --- |\n",
    "| sexo    | --- |\n",
    "| depedentes | --- |\n",
    "| escolaridade | --- |\n",
    "| estado_civil | --- |\n",
    "| salario_anual | Faixa do salario mensal multiplicado por 12 |\n",
    "| tipo_cartao | Categoria do cartao: blue, silver, gold e platinium |\n",
    "| meses_de_relacionamento | Quantidade de meses desde a abertura da conta |\n",
    "| qtd_produtos | Quantidade de produtos contratados |\n",
    "| iteracoes_12m | Quantidade de iteracoes com o cliente no último ano |\n",
    "| meses_inatico_12m | Quantidade de meses que o cliente ficou inativo no último ano |\n",
    "| limite_credito | Valor do limite do cartão de crédito |\n",
    "| valor_transacoes_12m | Soma total do valor das transações no cartão de crédito no último ano |\n",
    "| qtd_transacoes_12m | Quantidade total de transações no cartão de crédito no último ano |\n",
    "\n"
   ]
  },
  {
   "cell_type": "markdown",
   "metadata": {
    "id": "w-e_mqC81lPf"
   },
   "source": [
    "#**2. Bibliotecas**\n"
   ]
  },
  {
   "cell_type": "markdown",
   "metadata": {
    "id": "Xg170CrW1tKH"
   },
   "source": [
    "Importação das bibliotecas a serem utilizadas nesta análise:"
   ]
  },
  {
   "cell_type": "code",
   "execution_count": 2,
   "metadata": {
    "execution": {
     "iopub.execute_input": "2024-06-19T00:54:38.380377Z",
     "iopub.status.busy": "2024-06-19T00:54:38.37979Z",
     "iopub.status.idle": "2024-06-19T00:54:40.877109Z",
     "shell.execute_reply": "2024-06-19T00:54:40.875924Z",
     "shell.execute_reply.started": "2024-06-19T00:54:38.380319Z"
    },
    "id": "llWjN0r12Pok",
    "trusted": true
   },
   "outputs": [
    {
     "ename": "AttributeError",
     "evalue": "module 'matplotlib.cm' has no attribute 'register_cmap'",
     "output_type": "error",
     "traceback": [
      "\u001b[1;31m---------------------------------------------------------------------------\u001b[0m",
      "\u001b[1;31mAttributeError\u001b[0m                            Traceback (most recent call last)",
      "Cell \u001b[1;32mIn[2], line 6\u001b[0m\n\u001b[0;32m      1\u001b[0m \u001b[38;5;66;03m#Standard library imports.\u001b[39;00m\n\u001b[0;32m      2\u001b[0m \n\u001b[0;32m      3\u001b[0m \u001b[38;5;66;03m#Related third party imports.\u001b[39;00m\n\u001b[0;32m      5\u001b[0m \u001b[38;5;28;01mimport\u001b[39;00m \u001b[38;5;21;01mpandas\u001b[39;00m \u001b[38;5;28;01mas\u001b[39;00m \u001b[38;5;21;01mpd\u001b[39;00m\n\u001b[1;32m----> 6\u001b[0m \u001b[38;5;28;01mimport\u001b[39;00m \u001b[38;5;21;01mseaborn\u001b[39;00m \u001b[38;5;28;01mas\u001b[39;00m \u001b[38;5;21;01msns\u001b[39;00m\n\u001b[0;32m      7\u001b[0m \u001b[38;5;28;01mimport\u001b[39;00m \u001b[38;5;21;01mmatplotlib\u001b[39;00m\u001b[38;5;21;01m.\u001b[39;00m\u001b[38;5;21;01mpyplot\u001b[39;00m \u001b[38;5;28;01mas\u001b[39;00m \u001b[38;5;21;01mplt\u001b[39;00m\n\u001b[0;32m      9\u001b[0m \u001b[38;5;66;03m#Local application/library specific imports.\u001b[39;00m\n",
      "File \u001b[1;32mc:\\Users\\alexa\\AppData\\Local\\Programs\\Python\\Python312\\Lib\\site-packages\\seaborn\\__init__.py:9\u001b[0m\n\u001b[0;32m      7\u001b[0m \u001b[38;5;28;01mfrom\u001b[39;00m \u001b[38;5;21;01m.\u001b[39;00m\u001b[38;5;21;01mcategorical\u001b[39;00m \u001b[38;5;28;01mimport\u001b[39;00m \u001b[38;5;241m*\u001b[39m  \u001b[38;5;66;03m# noqa: F401,F403\u001b[39;00m\n\u001b[0;32m      8\u001b[0m \u001b[38;5;28;01mfrom\u001b[39;00m \u001b[38;5;21;01m.\u001b[39;00m\u001b[38;5;21;01mdistributions\u001b[39;00m \u001b[38;5;28;01mimport\u001b[39;00m \u001b[38;5;241m*\u001b[39m  \u001b[38;5;66;03m# noqa: F401,F403\u001b[39;00m\n\u001b[1;32m----> 9\u001b[0m \u001b[38;5;28;01mfrom\u001b[39;00m \u001b[38;5;21;01m.\u001b[39;00m\u001b[38;5;21;01mmatrix\u001b[39;00m \u001b[38;5;28;01mimport\u001b[39;00m \u001b[38;5;241m*\u001b[39m  \u001b[38;5;66;03m# noqa: F401,F403\u001b[39;00m\n\u001b[0;32m     10\u001b[0m \u001b[38;5;28;01mfrom\u001b[39;00m \u001b[38;5;21;01m.\u001b[39;00m\u001b[38;5;21;01mmiscplot\u001b[39;00m \u001b[38;5;28;01mimport\u001b[39;00m \u001b[38;5;241m*\u001b[39m  \u001b[38;5;66;03m# noqa: F401,F403\u001b[39;00m\n\u001b[0;32m     11\u001b[0m \u001b[38;5;28;01mfrom\u001b[39;00m \u001b[38;5;21;01m.\u001b[39;00m\u001b[38;5;21;01maxisgrid\u001b[39;00m \u001b[38;5;28;01mimport\u001b[39;00m \u001b[38;5;241m*\u001b[39m  \u001b[38;5;66;03m# noqa: F401,F403\u001b[39;00m\n",
      "File \u001b[1;32mc:\\Users\\alexa\\AppData\\Local\\Programs\\Python\\Python312\\Lib\\site-packages\\seaborn\\matrix.py:13\u001b[0m\n\u001b[0;32m     10\u001b[0m \u001b[38;5;28;01mimport\u001b[39;00m \u001b[38;5;21;01mpandas\u001b[39;00m \u001b[38;5;28;01mas\u001b[39;00m \u001b[38;5;21;01mpd\u001b[39;00m\n\u001b[0;32m     11\u001b[0m \u001b[38;5;28;01mfrom\u001b[39;00m \u001b[38;5;21;01mscipy\u001b[39;00m\u001b[38;5;21;01m.\u001b[39;00m\u001b[38;5;21;01mcluster\u001b[39;00m \u001b[38;5;28;01mimport\u001b[39;00m hierarchy\n\u001b[1;32m---> 13\u001b[0m \u001b[38;5;28;01mfrom\u001b[39;00m \u001b[38;5;21;01m.\u001b[39;00m \u001b[38;5;28;01mimport\u001b[39;00m cm\n\u001b[0;32m     14\u001b[0m \u001b[38;5;28;01mfrom\u001b[39;00m \u001b[38;5;21;01m.\u001b[39;00m\u001b[38;5;21;01maxisgrid\u001b[39;00m \u001b[38;5;28;01mimport\u001b[39;00m Grid\n\u001b[0;32m     15\u001b[0m \u001b[38;5;28;01mfrom\u001b[39;00m \u001b[38;5;21;01m.\u001b[39;00m\u001b[38;5;21;01mutils\u001b[39;00m \u001b[38;5;28;01mimport\u001b[39;00m (despine, axis_ticklabels_overlap, relative_luminance,\n\u001b[0;32m     16\u001b[0m                     to_utf8)\n",
      "File \u001b[1;32mc:\\Users\\alexa\\AppData\\Local\\Programs\\Python\\Python312\\Lib\\site-packages\\seaborn\\cm.py:1582\u001b[0m\n\u001b[0;32m   1579\u001b[0m     _cmap_r \u001b[38;5;241m=\u001b[39m colors\u001b[38;5;241m.\u001b[39mListedColormap(_lut[::\u001b[38;5;241m-\u001b[39m\u001b[38;5;241m1\u001b[39m], _name \u001b[38;5;241m+\u001b[39m \u001b[38;5;124m\"\u001b[39m\u001b[38;5;124m_r\u001b[39m\u001b[38;5;124m\"\u001b[39m)  \n\u001b[0;32m   1580\u001b[0m     \u001b[38;5;28mlocals\u001b[39m()[_name \u001b[38;5;241m+\u001b[39m \u001b[38;5;124m\"\u001b[39m\u001b[38;5;124m_r\u001b[39m\u001b[38;5;124m\"\u001b[39m] \u001b[38;5;241m=\u001b[39m _cmap_r\n\u001b[1;32m-> 1582\u001b[0m     \u001b[43mmpl_cm\u001b[49m\u001b[38;5;241;43m.\u001b[39;49m\u001b[43mregister_cmap\u001b[49m(_name, _cmap)\n\u001b[0;32m   1583\u001b[0m     mpl_cm\u001b[38;5;241m.\u001b[39mregister_cmap(_name \u001b[38;5;241m+\u001b[39m \u001b[38;5;124m\"\u001b[39m\u001b[38;5;124m_r\u001b[39m\u001b[38;5;124m\"\u001b[39m, _cmap_r)\n\u001b[0;32m   1585\u001b[0m \u001b[38;5;28;01mdel\u001b[39;00m colors, mpl_cm\n",
      "\u001b[1;31mAttributeError\u001b[0m: module 'matplotlib.cm' has no attribute 'register_cmap'"
     ]
    }
   ],
   "source": [
    "#Standard library imports.\n",
    "\n",
    "#Related third party imports.\n",
    "\n",
    "import pandas as pd\n",
    "import seaborn as sns\n",
    "import matplotlib.pyplot as plt\n",
    "\n",
    "#Local application/library specific imports.\n"
   ]
  },
  {
   "cell_type": "markdown",
   "metadata": {
    "id": "kWV01rE62508"
   },
   "source": [
    "#**3. Importação de dados**"
   ]
  },
  {
   "cell_type": "code",
   "execution_count": 3,
   "metadata": {
    "execution": {
     "iopub.execute_input": "2024-06-19T00:54:40.879438Z",
     "iopub.status.busy": "2024-06-19T00:54:40.878981Z",
     "iopub.status.idle": "2024-06-19T00:54:41.166067Z",
     "shell.execute_reply": "2024-06-19T00:54:41.164918Z",
     "shell.execute_reply.started": "2024-06-19T00:54:40.879408Z"
    },
    "id": "tTq6PGuU3GAO",
    "trusted": true
   },
   "outputs": [],
   "source": [
    "df = pd.read_csv('https://raw.githubusercontent.com/andre-marcos-perez/ebac-course-utils/develop/dataset/credito.csv', na_values='na')"
   ]
  },
  {
   "cell_type": "markdown",
   "metadata": {
    "id": "C6iciUPO7DbO"
   },
   "source": [
    "#**4. Exploração de dados**\n"
   ]
  },
  {
   "cell_type": "markdown",
   "metadata": {
    "id": "j1uj8LzP7KeE"
   },
   "source": [
    "##**4.1 Estrutura**\n"
   ]
  },
  {
   "cell_type": "code",
   "execution_count": 4,
   "metadata": {
    "execution": {
     "iopub.execute_input": "2024-06-19T00:54:41.173403Z",
     "iopub.status.busy": "2024-06-19T00:54:41.172969Z",
     "iopub.status.idle": "2024-06-19T00:54:41.204633Z",
     "shell.execute_reply": "2024-06-19T00:54:41.203369Z",
     "shell.execute_reply.started": "2024-06-19T00:54:41.173367Z"
    },
    "id": "grFXeUMm7g-2",
    "outputId": "8e7e204a-e852-48e0-8fd6-fe7ce7359dd9",
    "trusted": true
   },
   "outputs": [
    {
     "data": {
      "text/html": [
       "<div>\n",
       "<style scoped>\n",
       "    .dataframe tbody tr th:only-of-type {\n",
       "        vertical-align: middle;\n",
       "    }\n",
       "\n",
       "    .dataframe tbody tr th {\n",
       "        vertical-align: top;\n",
       "    }\n",
       "\n",
       "    .dataframe thead th {\n",
       "        text-align: right;\n",
       "    }\n",
       "</style>\n",
       "<table border=\"1\" class=\"dataframe\">\n",
       "  <thead>\n",
       "    <tr style=\"text-align: right;\">\n",
       "      <th></th>\n",
       "      <th>id</th>\n",
       "      <th>default</th>\n",
       "      <th>idade</th>\n",
       "      <th>sexo</th>\n",
       "      <th>dependentes</th>\n",
       "      <th>escolaridade</th>\n",
       "      <th>estado_civil</th>\n",
       "      <th>salario_anual</th>\n",
       "      <th>tipo_cartao</th>\n",
       "      <th>meses_de_relacionamento</th>\n",
       "      <th>qtd_produtos</th>\n",
       "      <th>iteracoes_12m</th>\n",
       "      <th>meses_inativo_12m</th>\n",
       "      <th>limite_credito</th>\n",
       "      <th>valor_transacoes_12m</th>\n",
       "      <th>qtd_transacoes_12m</th>\n",
       "    </tr>\n",
       "  </thead>\n",
       "  <tbody>\n",
       "    <tr>\n",
       "      <th>0</th>\n",
       "      <td>768805383</td>\n",
       "      <td>0</td>\n",
       "      <td>45</td>\n",
       "      <td>M</td>\n",
       "      <td>3</td>\n",
       "      <td>ensino medio</td>\n",
       "      <td>casado</td>\n",
       "      <td>$60K - $80K</td>\n",
       "      <td>blue</td>\n",
       "      <td>39</td>\n",
       "      <td>5</td>\n",
       "      <td>3</td>\n",
       "      <td>1</td>\n",
       "      <td>12.691,51</td>\n",
       "      <td>1.144,90</td>\n",
       "      <td>42</td>\n",
       "    </tr>\n",
       "    <tr>\n",
       "      <th>1</th>\n",
       "      <td>818770008</td>\n",
       "      <td>0</td>\n",
       "      <td>49</td>\n",
       "      <td>F</td>\n",
       "      <td>5</td>\n",
       "      <td>mestrado</td>\n",
       "      <td>solteiro</td>\n",
       "      <td>menos que $40K</td>\n",
       "      <td>blue</td>\n",
       "      <td>44</td>\n",
       "      <td>6</td>\n",
       "      <td>2</td>\n",
       "      <td>1</td>\n",
       "      <td>8.256,96</td>\n",
       "      <td>1.291,45</td>\n",
       "      <td>33</td>\n",
       "    </tr>\n",
       "    <tr>\n",
       "      <th>2</th>\n",
       "      <td>713982108</td>\n",
       "      <td>0</td>\n",
       "      <td>51</td>\n",
       "      <td>M</td>\n",
       "      <td>3</td>\n",
       "      <td>mestrado</td>\n",
       "      <td>casado</td>\n",
       "      <td>$80K - $120K</td>\n",
       "      <td>blue</td>\n",
       "      <td>36</td>\n",
       "      <td>4</td>\n",
       "      <td>0</td>\n",
       "      <td>1</td>\n",
       "      <td>3.418,56</td>\n",
       "      <td>1.887,72</td>\n",
       "      <td>20</td>\n",
       "    </tr>\n",
       "    <tr>\n",
       "      <th>3</th>\n",
       "      <td>769911858</td>\n",
       "      <td>0</td>\n",
       "      <td>40</td>\n",
       "      <td>F</td>\n",
       "      <td>4</td>\n",
       "      <td>ensino medio</td>\n",
       "      <td>NaN</td>\n",
       "      <td>menos que $40K</td>\n",
       "      <td>blue</td>\n",
       "      <td>34</td>\n",
       "      <td>3</td>\n",
       "      <td>1</td>\n",
       "      <td>4</td>\n",
       "      <td>3.313,03</td>\n",
       "      <td>1.171,56</td>\n",
       "      <td>20</td>\n",
       "    </tr>\n",
       "    <tr>\n",
       "      <th>4</th>\n",
       "      <td>709106358</td>\n",
       "      <td>0</td>\n",
       "      <td>40</td>\n",
       "      <td>M</td>\n",
       "      <td>3</td>\n",
       "      <td>sem educacao formal</td>\n",
       "      <td>casado</td>\n",
       "      <td>$60K - $80K</td>\n",
       "      <td>blue</td>\n",
       "      <td>21</td>\n",
       "      <td>5</td>\n",
       "      <td>0</td>\n",
       "      <td>1</td>\n",
       "      <td>4.716,22</td>\n",
       "      <td>816,08</td>\n",
       "      <td>28</td>\n",
       "    </tr>\n",
       "  </tbody>\n",
       "</table>\n",
       "</div>"
      ],
      "text/plain": [
       "          id  default  idade sexo  dependentes         escolaridade  \\\n",
       "0  768805383        0     45    M            3         ensino medio   \n",
       "1  818770008        0     49    F            5             mestrado   \n",
       "2  713982108        0     51    M            3             mestrado   \n",
       "3  769911858        0     40    F            4         ensino medio   \n",
       "4  709106358        0     40    M            3  sem educacao formal   \n",
       "\n",
       "  estado_civil   salario_anual tipo_cartao  meses_de_relacionamento  \\\n",
       "0       casado     $60K - $80K        blue                       39   \n",
       "1     solteiro  menos que $40K        blue                       44   \n",
       "2       casado    $80K - $120K        blue                       36   \n",
       "3          NaN  menos que $40K        blue                       34   \n",
       "4       casado     $60K - $80K        blue                       21   \n",
       "\n",
       "   qtd_produtos  iteracoes_12m  meses_inativo_12m limite_credito  \\\n",
       "0             5              3                  1      12.691,51   \n",
       "1             6              2                  1       8.256,96   \n",
       "2             4              0                  1       3.418,56   \n",
       "3             3              1                  4       3.313,03   \n",
       "4             5              0                  1       4.716,22   \n",
       "\n",
       "  valor_transacoes_12m  qtd_transacoes_12m  \n",
       "0             1.144,90                  42  \n",
       "1             1.291,45                  33  \n",
       "2             1.887,72                  20  \n",
       "3             1.171,56                  20  \n",
       "4               816,08                  28  "
      ]
     },
     "execution_count": 4,
     "metadata": {},
     "output_type": "execute_result"
    }
   ],
   "source": [
    "# A função head() retorna as primeiras 5 linhas do DataFrame:\n",
    "\n",
    "df.head()"
   ]
  },
  {
   "cell_type": "code",
   "execution_count": 5,
   "metadata": {
    "execution": {
     "iopub.execute_input": "2024-06-19T00:54:41.20642Z",
     "iopub.status.busy": "2024-06-19T00:54:41.20602Z",
     "iopub.status.idle": "2024-06-19T00:54:41.213379Z",
     "shell.execute_reply": "2024-06-19T00:54:41.212286Z",
     "shell.execute_reply.started": "2024-06-19T00:54:41.206386Z"
    },
    "id": "_tqIcFI-OSC6",
    "outputId": "a4af28bf-ba1c-4fcd-efb0-25a0208ec5ac",
    "trusted": true
   },
   "outputs": [
    {
     "name": "stdout",
     "output_type": "stream",
     "text": [
      "A quantidade total de linhas: 10127\n",
      "A quantidade total de colunas: 16\n"
     ]
    }
   ],
   "source": [
    "# Quantidade de linhas, quantidade de colunas)\n",
    "\n",
    "qtd_total_linhas, qtd_total_colunas = df.shape\n",
    "\n",
    "print(f'A quantidade total de linhas: {qtd_total_linhas}')\n",
    "print(f'A quantidade total de colunas: {qtd_total_colunas}')"
   ]
  },
  {
   "cell_type": "code",
   "execution_count": 6,
   "metadata": {
    "execution": {
     "iopub.execute_input": "2024-06-19T00:54:41.215605Z",
     "iopub.status.busy": "2024-06-19T00:54:41.21494Z",
     "iopub.status.idle": "2024-06-19T00:54:41.231608Z",
     "shell.execute_reply": "2024-06-19T00:54:41.23018Z",
     "shell.execute_reply.started": "2024-06-19T00:54:41.215565Z"
    },
    "id": "p8sjQ7Mnltao",
    "outputId": "2d7cf468-c457-482c-ef14-c25c665a7560",
    "trusted": true
   },
   "outputs": [
    {
     "name": "stdout",
     "output_type": "stream",
     "text": [
      "Quantidade de linhas de clientes adimplentes: 8500\n"
     ]
    }
   ],
   "source": [
    "# Quantidade de linhas de clientes adimplentes, neste caso não é necessário demonstrar a quantidade de coluna pois o valor será o mesmo do total de colunas\n",
    "\n",
    "qtd_linhas_adimplentes, qtd_colunas_adimplentes = df[df['default'] == 0].shape\n",
    "\n",
    "print(f'Quantidade de linhas de clientes adimplentes: {qtd_linhas_adimplentes}')\n"
   ]
  },
  {
   "cell_type": "code",
   "execution_count": 7,
   "metadata": {
    "execution": {
     "iopub.execute_input": "2024-06-19T00:54:41.234303Z",
     "iopub.status.busy": "2024-06-19T00:54:41.23357Z",
     "iopub.status.idle": "2024-06-19T00:54:41.242318Z",
     "shell.execute_reply": "2024-06-19T00:54:41.240973Z",
     "shell.execute_reply.started": "2024-06-19T00:54:41.234263Z"
    },
    "id": "G4RYP6btBriq",
    "outputId": "cfe60160-5d66-4954-f697-f945d148e143",
    "trusted": true
   },
   "outputs": [
    {
     "name": "stdout",
     "output_type": "stream",
     "text": [
      "Quantidade de linhas de clientes inadimplentes: 1627\n"
     ]
    }
   ],
   "source": [
    "# Apuração das linhas em relação aos clientes Inadimplentes\n",
    "\n",
    "qtd_linhas_inadimplentes, qtd_colunas_inadimplentes = df[df['default'] == 1].shape\n",
    "\n",
    "print(f'Quantidade de linhas de clientes inadimplentes: {qtd_linhas_inadimplentes}')"
   ]
  },
  {
   "cell_type": "code",
   "execution_count": 8,
   "metadata": {
    "execution": {
     "iopub.execute_input": "2024-06-19T00:54:41.244357Z",
     "iopub.status.busy": "2024-06-19T00:54:41.2437Z",
     "iopub.status.idle": "2024-06-19T00:54:41.252825Z",
     "shell.execute_reply": "2024-06-19T00:54:41.251319Z",
     "shell.execute_reply.started": "2024-06-19T00:54:41.244322Z"
    },
    "id": "wH_CazQqB0Ju",
    "outputId": "dfafcbb3-6e72-4fb1-e55c-82d63c93c78b",
    "trusted": true
   },
   "outputs": [
    {
     "name": "stdout",
     "output_type": "stream",
     "text": [
      "A proporcão clientes adimplentes é de 83.93%\n",
      "A proporcão clientes inadimplentes é de 16.07%\n"
     ]
    }
   ],
   "source": [
    "# Demonstração do percentual referente a cada cliente\n",
    "\n",
    "print(f'A proporcão clientes adimplentes é de {round(100 * qtd_linhas_adimplentes / qtd_total_linhas, 2)}%')\n",
    "print(f'A proporcão clientes inadimplentes é de {round(100 * qtd_linhas_inadimplentes / qtd_total_linhas, 2)}%')"
   ]
  },
  {
   "cell_type": "markdown",
   "metadata": {
    "id": "u-7hj5dTv4H4"
   },
   "source": [
    "##**4.2 Schema**\n"
   ]
  },
  {
   "cell_type": "code",
   "execution_count": 9,
   "metadata": {
    "execution": {
     "iopub.execute_input": "2024-06-19T00:54:41.255601Z",
     "iopub.status.busy": "2024-06-19T00:54:41.254872Z",
     "iopub.status.idle": "2024-06-19T00:54:41.26678Z",
     "shell.execute_reply": "2024-06-19T00:54:41.265534Z",
     "shell.execute_reply.started": "2024-06-19T00:54:41.255561Z"
    },
    "id": "QHyofhuRxAzY",
    "outputId": "f4f31e81-8caf-4e65-bb45-ec8cc0c86799",
    "trusted": true
   },
   "outputs": [
    {
     "data": {
      "text/plain": [
       "id                          int64\n",
       "default                     int64\n",
       "idade                       int64\n",
       "sexo                       object\n",
       "dependentes                 int64\n",
       "escolaridade               object\n",
       "estado_civil               object\n",
       "salario_anual              object\n",
       "tipo_cartao                object\n",
       "meses_de_relacionamento     int64\n",
       "qtd_produtos                int64\n",
       "iteracoes_12m               int64\n",
       "meses_inativo_12m           int64\n",
       "limite_credito             object\n",
       "valor_transacoes_12m       object\n",
       "qtd_transacoes_12m          int64\n",
       "dtype: object"
      ]
     },
     "execution_count": 9,
     "metadata": {},
     "output_type": "execute_result"
    }
   ],
   "source": [
    "# Análise dos tipos de dados presentes em cada coluna\n",
    "\n",
    "df.dtypes"
   ]
  },
  {
   "cell_type": "code",
   "execution_count": 10,
   "metadata": {
    "execution": {
     "iopub.execute_input": "2024-06-19T00:54:41.272083Z",
     "iopub.status.busy": "2024-06-19T00:54:41.270896Z",
     "iopub.status.idle": "2024-06-19T00:54:41.284658Z",
     "shell.execute_reply": "2024-06-19T00:54:41.283527Z",
     "shell.execute_reply.started": "2024-06-19T00:54:41.272046Z"
    },
    "id": "J2ztMq1gso75",
    "outputId": "0f784ccb-18bf-4a07-e7db-b61d250d9c54",
    "trusted": true
   },
   "outputs": [
    {
     "data": {
      "text/html": [
       "<div>\n",
       "<style scoped>\n",
       "    .dataframe tbody tr th:only-of-type {\n",
       "        vertical-align: middle;\n",
       "    }\n",
       "\n",
       "    .dataframe tbody tr th {\n",
       "        vertical-align: top;\n",
       "    }\n",
       "\n",
       "    .dataframe thead th {\n",
       "        text-align: right;\n",
       "    }\n",
       "</style>\n",
       "<table border=\"1\" class=\"dataframe\">\n",
       "  <thead>\n",
       "    <tr style=\"text-align: right;\">\n",
       "      <th></th>\n",
       "      <th>0</th>\n",
       "    </tr>\n",
       "  </thead>\n",
       "  <tbody>\n",
       "    <tr>\n",
       "      <th>id</th>\n",
       "      <td>768805383</td>\n",
       "    </tr>\n",
       "    <tr>\n",
       "      <th>default</th>\n",
       "      <td>0</td>\n",
       "    </tr>\n",
       "    <tr>\n",
       "      <th>idade</th>\n",
       "      <td>45</td>\n",
       "    </tr>\n",
       "    <tr>\n",
       "      <th>sexo</th>\n",
       "      <td>M</td>\n",
       "    </tr>\n",
       "    <tr>\n",
       "      <th>dependentes</th>\n",
       "      <td>3</td>\n",
       "    </tr>\n",
       "    <tr>\n",
       "      <th>escolaridade</th>\n",
       "      <td>ensino medio</td>\n",
       "    </tr>\n",
       "    <tr>\n",
       "      <th>estado_civil</th>\n",
       "      <td>casado</td>\n",
       "    </tr>\n",
       "    <tr>\n",
       "      <th>salario_anual</th>\n",
       "      <td>$60K - $80K</td>\n",
       "    </tr>\n",
       "    <tr>\n",
       "      <th>tipo_cartao</th>\n",
       "      <td>blue</td>\n",
       "    </tr>\n",
       "    <tr>\n",
       "      <th>meses_de_relacionamento</th>\n",
       "      <td>39</td>\n",
       "    </tr>\n",
       "    <tr>\n",
       "      <th>qtd_produtos</th>\n",
       "      <td>5</td>\n",
       "    </tr>\n",
       "    <tr>\n",
       "      <th>iteracoes_12m</th>\n",
       "      <td>3</td>\n",
       "    </tr>\n",
       "    <tr>\n",
       "      <th>meses_inativo_12m</th>\n",
       "      <td>1</td>\n",
       "    </tr>\n",
       "    <tr>\n",
       "      <th>limite_credito</th>\n",
       "      <td>12.691,51</td>\n",
       "    </tr>\n",
       "    <tr>\n",
       "      <th>valor_transacoes_12m</th>\n",
       "      <td>1.144,90</td>\n",
       "    </tr>\n",
       "    <tr>\n",
       "      <th>qtd_transacoes_12m</th>\n",
       "      <td>42</td>\n",
       "    </tr>\n",
       "  </tbody>\n",
       "</table>\n",
       "</div>"
      ],
      "text/plain": [
       "                                    0\n",
       "id                          768805383\n",
       "default                             0\n",
       "idade                              45\n",
       "sexo                                M\n",
       "dependentes                         3\n",
       "escolaridade             ensino medio\n",
       "estado_civil                   casado\n",
       "salario_anual             $60K - $80K\n",
       "tipo_cartao                      blue\n",
       "meses_de_relacionamento            39\n",
       "qtd_produtos                        5\n",
       "iteracoes_12m                       3\n",
       "meses_inativo_12m                   1\n",
       "limite_credito              12.691,51\n",
       "valor_transacoes_12m         1.144,90\n",
       "qtd_transacoes_12m                 42"
      ]
     },
     "execution_count": 10,
     "metadata": {},
     "output_type": "execute_result"
    }
   ],
   "source": [
    "# Verificação dos valores presentes das primeiras linhas de cada coluna para comparar com as variáveis descritas no tópico anterior\n",
    "\n",
    "df.head(1).transpose()"
   ]
  },
  {
   "cell_type": "code",
   "execution_count": 11,
   "metadata": {
    "execution": {
     "iopub.execute_input": "2024-06-19T00:54:41.286543Z",
     "iopub.status.busy": "2024-06-19T00:54:41.286158Z",
     "iopub.status.idle": "2024-06-19T00:54:41.334405Z",
     "shell.execute_reply": "2024-06-19T00:54:41.3334Z",
     "shell.execute_reply.started": "2024-06-19T00:54:41.286504Z"
    },
    "id": "st3Qw-dAtZLK",
    "outputId": "8d134010-666e-4f42-fe56-e5e326e65f4b",
    "trusted": true
   },
   "outputs": [
    {
     "data": {
      "text/html": [
       "<div>\n",
       "<style scoped>\n",
       "    .dataframe tbody tr th:only-of-type {\n",
       "        vertical-align: middle;\n",
       "    }\n",
       "\n",
       "    .dataframe tbody tr th {\n",
       "        vertical-align: top;\n",
       "    }\n",
       "\n",
       "    .dataframe thead th {\n",
       "        text-align: right;\n",
       "    }\n",
       "</style>\n",
       "<table border=\"1\" class=\"dataframe\">\n",
       "  <thead>\n",
       "    <tr style=\"text-align: right;\">\n",
       "      <th></th>\n",
       "      <th>count</th>\n",
       "      <th>unique</th>\n",
       "      <th>top</th>\n",
       "      <th>freq</th>\n",
       "    </tr>\n",
       "  </thead>\n",
       "  <tbody>\n",
       "    <tr>\n",
       "      <th>sexo</th>\n",
       "      <td>10127</td>\n",
       "      <td>2</td>\n",
       "      <td>F</td>\n",
       "      <td>5358</td>\n",
       "    </tr>\n",
       "    <tr>\n",
       "      <th>escolaridade</th>\n",
       "      <td>8608</td>\n",
       "      <td>5</td>\n",
       "      <td>mestrado</td>\n",
       "      <td>3128</td>\n",
       "    </tr>\n",
       "    <tr>\n",
       "      <th>estado_civil</th>\n",
       "      <td>9378</td>\n",
       "      <td>3</td>\n",
       "      <td>casado</td>\n",
       "      <td>4687</td>\n",
       "    </tr>\n",
       "    <tr>\n",
       "      <th>salario_anual</th>\n",
       "      <td>9015</td>\n",
       "      <td>5</td>\n",
       "      <td>menos que $40K</td>\n",
       "      <td>3561</td>\n",
       "    </tr>\n",
       "    <tr>\n",
       "      <th>tipo_cartao</th>\n",
       "      <td>10127</td>\n",
       "      <td>4</td>\n",
       "      <td>blue</td>\n",
       "      <td>9436</td>\n",
       "    </tr>\n",
       "    <tr>\n",
       "      <th>limite_credito</th>\n",
       "      <td>10127</td>\n",
       "      <td>9272</td>\n",
       "      <td>1.438,21</td>\n",
       "      <td>11</td>\n",
       "    </tr>\n",
       "    <tr>\n",
       "      <th>valor_transacoes_12m</th>\n",
       "      <td>10127</td>\n",
       "      <td>10035</td>\n",
       "      <td>3.851,51</td>\n",
       "      <td>3</td>\n",
       "    </tr>\n",
       "  </tbody>\n",
       "</table>\n",
       "</div>"
      ],
      "text/plain": [
       "                      count unique             top  freq\n",
       "sexo                  10127      2               F  5358\n",
       "escolaridade           8608      5        mestrado  3128\n",
       "estado_civil           9378      3          casado  4687\n",
       "salario_anual          9015      5  menos que $40K  3561\n",
       "tipo_cartao           10127      4            blue  9436\n",
       "limite_credito        10127   9272        1.438,21    11\n",
       "valor_transacoes_12m  10127  10035        3.851,51     3"
      ]
     },
     "execution_count": 11,
     "metadata": {},
     "output_type": "execute_result"
    }
   ],
   "source": [
    "# Verificação dos atributos categóricos da tabela principal:\n",
    "\n",
    "df.select_dtypes('object').describe().transpose()"
   ]
  },
  {
   "cell_type": "markdown",
   "metadata": {
    "id": "qdBesGPjt2t7"
   },
   "source": [
    "Podemos observar que as colunas `limite_credito` e `valor_transacoes_12m` estão com valores no formato brasileiro, devido a isso não são reconhecidos diretamente como números, pois o Python usa o ponto (.) como o separador decimal e não reconhece a vírgula (,) dessa forma.\n",
    "\n"
   ]
  },
  {
   "cell_type": "code",
   "execution_count": 12,
   "metadata": {
    "execution": {
     "iopub.execute_input": "2024-06-19T00:54:41.335921Z",
     "iopub.status.busy": "2024-06-19T00:54:41.335614Z",
     "iopub.status.idle": "2024-06-19T00:54:41.349108Z",
     "shell.execute_reply": "2024-06-19T00:54:41.34791Z",
     "shell.execute_reply.started": "2024-06-19T00:54:41.335895Z"
    },
    "id": "DKjU45vm14go",
    "outputId": "5ee535c6-c40d-4212-c202-0ae3dba9f18e",
    "trusted": true
   },
   "outputs": [
    {
     "data": {
      "text/plain": [
       "limite_credito          object\n",
       "valor_transacoes_12m    object\n",
       "dtype: object"
      ]
     },
     "execution_count": 12,
     "metadata": {},
     "output_type": "execute_result"
    }
   ],
   "source": [
    "# Confirmação do tipo de várial que precisam de correção\n",
    "\n",
    "df[['limite_credito', 'valor_transacoes_12m']].dtypes"
   ]
  },
  {
   "cell_type": "markdown",
   "metadata": {
    "id": "6txIpHXsGxXe"
   },
   "source": [
    "## **4.3 Correção do Schema**\n"
   ]
  },
  {
   "cell_type": "code",
   "execution_count": 13,
   "metadata": {
    "execution": {
     "iopub.execute_input": "2024-06-19T00:54:41.351068Z",
     "iopub.status.busy": "2024-06-19T00:54:41.350649Z",
     "iopub.status.idle": "2024-06-19T00:54:41.375691Z",
     "shell.execute_reply": "2024-06-19T00:54:41.37427Z",
     "shell.execute_reply.started": "2024-06-19T00:54:41.351038Z"
    },
    "id": "kzgzGDTawISS",
    "trusted": true
   },
   "outputs": [],
   "source": [
    "# Função lambda criada para fazer a substituição dos separadores brasileiros\n",
    "\n",
    "correcao = lambda valor: float(valor.replace('.', '').replace(',','.'))\n",
    "\n",
    "# Aplicação da função lambda nas colunas que precisam de alterações\n",
    "\n",
    "df['valor_transacoes_12m'] = df['valor_transacoes_12m'].apply(correcao)\n",
    "df['limite_credito'] = df['limite_credito'].apply(correcao)"
   ]
  },
  {
   "cell_type": "code",
   "execution_count": 14,
   "metadata": {
    "execution": {
     "iopub.execute_input": "2024-06-19T00:54:41.378239Z",
     "iopub.status.busy": "2024-06-19T00:54:41.377316Z",
     "iopub.status.idle": "2024-06-19T00:54:41.394011Z",
     "shell.execute_reply": "2024-06-19T00:54:41.39245Z",
     "shell.execute_reply.started": "2024-06-19T00:54:41.378188Z"
    },
    "id": "YBL3xVDYyPzW",
    "outputId": "198c3328-529c-44f1-e62d-c8f990dfc85a",
    "trusted": true
   },
   "outputs": [
    {
     "data": {
      "text/plain": [
       "id                           int64\n",
       "default                      int64\n",
       "idade                        int64\n",
       "sexo                        object\n",
       "dependentes                  int64\n",
       "escolaridade                object\n",
       "estado_civil                object\n",
       "salario_anual               object\n",
       "tipo_cartao                 object\n",
       "meses_de_relacionamento      int64\n",
       "qtd_produtos                 int64\n",
       "iteracoes_12m                int64\n",
       "meses_inativo_12m            int64\n",
       "limite_credito             float64\n",
       "valor_transacoes_12m       float64\n",
       "qtd_transacoes_12m           int64\n",
       "dtype: object"
      ]
     },
     "execution_count": 14,
     "metadata": {},
     "output_type": "execute_result"
    }
   ],
   "source": [
    "# Novamente a verificação dos tipos de dados de cada coluna\n",
    "\n",
    "df.dtypes"
   ]
  },
  {
   "cell_type": "code",
   "execution_count": 15,
   "metadata": {
    "execution": {
     "iopub.execute_input": "2024-06-19T00:54:41.396151Z",
     "iopub.status.busy": "2024-06-19T00:54:41.395317Z",
     "iopub.status.idle": "2024-06-19T00:54:41.410411Z",
     "shell.execute_reply": "2024-06-19T00:54:41.408975Z",
     "shell.execute_reply.started": "2024-06-19T00:54:41.396105Z"
    },
    "id": "hiK9kdgY2TX9",
    "outputId": "a6314872-2212-4373-9e18-574d3e2e1438",
    "trusted": true
   },
   "outputs": [
    {
     "data": {
      "text/plain": [
       "limite_credito          float64\n",
       "valor_transacoes_12m    float64\n",
       "dtype: object"
      ]
     },
     "execution_count": 15,
     "metadata": {},
     "output_type": "execute_result"
    }
   ],
   "source": [
    "# Confirmação do tipo de várial que foram corrigidas\n",
    "\n",
    "df[['limite_credito', 'valor_transacoes_12m']].dtypes"
   ]
  },
  {
   "cell_type": "code",
   "execution_count": 16,
   "metadata": {
    "execution": {
     "iopub.execute_input": "2024-06-19T00:54:41.412272Z",
     "iopub.status.busy": "2024-06-19T00:54:41.411919Z",
     "iopub.status.idle": "2024-06-19T00:54:41.428245Z",
     "shell.execute_reply": "2024-06-19T00:54:41.426971Z",
     "shell.execute_reply.started": "2024-06-19T00:54:41.412244Z"
    },
    "id": "rCL_7CHi7E1e",
    "outputId": "6a58cdaf-a7a8-4fcc-f8a2-b6b3401cea43",
    "trusted": true
   },
   "outputs": [
    {
     "data": {
      "text/html": [
       "<div>\n",
       "<style scoped>\n",
       "    .dataframe tbody tr th:only-of-type {\n",
       "        vertical-align: middle;\n",
       "    }\n",
       "\n",
       "    .dataframe tbody tr th {\n",
       "        vertical-align: top;\n",
       "    }\n",
       "\n",
       "    .dataframe thead th {\n",
       "        text-align: right;\n",
       "    }\n",
       "</style>\n",
       "<table border=\"1\" class=\"dataframe\">\n",
       "  <thead>\n",
       "    <tr style=\"text-align: right;\">\n",
       "      <th></th>\n",
       "      <th>0</th>\n",
       "      <th>1</th>\n",
       "      <th>2</th>\n",
       "      <th>3</th>\n",
       "      <th>4</th>\n",
       "    </tr>\n",
       "  </thead>\n",
       "  <tbody>\n",
       "    <tr>\n",
       "      <th>id</th>\n",
       "      <td>768805383</td>\n",
       "      <td>818770008</td>\n",
       "      <td>713982108</td>\n",
       "      <td>769911858</td>\n",
       "      <td>709106358</td>\n",
       "    </tr>\n",
       "    <tr>\n",
       "      <th>default</th>\n",
       "      <td>0</td>\n",
       "      <td>0</td>\n",
       "      <td>0</td>\n",
       "      <td>0</td>\n",
       "      <td>0</td>\n",
       "    </tr>\n",
       "    <tr>\n",
       "      <th>idade</th>\n",
       "      <td>45</td>\n",
       "      <td>49</td>\n",
       "      <td>51</td>\n",
       "      <td>40</td>\n",
       "      <td>40</td>\n",
       "    </tr>\n",
       "    <tr>\n",
       "      <th>sexo</th>\n",
       "      <td>M</td>\n",
       "      <td>F</td>\n",
       "      <td>M</td>\n",
       "      <td>F</td>\n",
       "      <td>M</td>\n",
       "    </tr>\n",
       "    <tr>\n",
       "      <th>dependentes</th>\n",
       "      <td>3</td>\n",
       "      <td>5</td>\n",
       "      <td>3</td>\n",
       "      <td>4</td>\n",
       "      <td>3</td>\n",
       "    </tr>\n",
       "    <tr>\n",
       "      <th>escolaridade</th>\n",
       "      <td>ensino medio</td>\n",
       "      <td>mestrado</td>\n",
       "      <td>mestrado</td>\n",
       "      <td>ensino medio</td>\n",
       "      <td>sem educacao formal</td>\n",
       "    </tr>\n",
       "    <tr>\n",
       "      <th>estado_civil</th>\n",
       "      <td>casado</td>\n",
       "      <td>solteiro</td>\n",
       "      <td>casado</td>\n",
       "      <td>NaN</td>\n",
       "      <td>casado</td>\n",
       "    </tr>\n",
       "    <tr>\n",
       "      <th>salario_anual</th>\n",
       "      <td>$60K - $80K</td>\n",
       "      <td>menos que $40K</td>\n",
       "      <td>$80K - $120K</td>\n",
       "      <td>menos que $40K</td>\n",
       "      <td>$60K - $80K</td>\n",
       "    </tr>\n",
       "    <tr>\n",
       "      <th>tipo_cartao</th>\n",
       "      <td>blue</td>\n",
       "      <td>blue</td>\n",
       "      <td>blue</td>\n",
       "      <td>blue</td>\n",
       "      <td>blue</td>\n",
       "    </tr>\n",
       "    <tr>\n",
       "      <th>meses_de_relacionamento</th>\n",
       "      <td>39</td>\n",
       "      <td>44</td>\n",
       "      <td>36</td>\n",
       "      <td>34</td>\n",
       "      <td>21</td>\n",
       "    </tr>\n",
       "    <tr>\n",
       "      <th>qtd_produtos</th>\n",
       "      <td>5</td>\n",
       "      <td>6</td>\n",
       "      <td>4</td>\n",
       "      <td>3</td>\n",
       "      <td>5</td>\n",
       "    </tr>\n",
       "    <tr>\n",
       "      <th>iteracoes_12m</th>\n",
       "      <td>3</td>\n",
       "      <td>2</td>\n",
       "      <td>0</td>\n",
       "      <td>1</td>\n",
       "      <td>0</td>\n",
       "    </tr>\n",
       "    <tr>\n",
       "      <th>meses_inativo_12m</th>\n",
       "      <td>1</td>\n",
       "      <td>1</td>\n",
       "      <td>1</td>\n",
       "      <td>4</td>\n",
       "      <td>1</td>\n",
       "    </tr>\n",
       "    <tr>\n",
       "      <th>limite_credito</th>\n",
       "      <td>12691.51</td>\n",
       "      <td>8256.96</td>\n",
       "      <td>3418.56</td>\n",
       "      <td>3313.03</td>\n",
       "      <td>4716.22</td>\n",
       "    </tr>\n",
       "    <tr>\n",
       "      <th>valor_transacoes_12m</th>\n",
       "      <td>1144.9</td>\n",
       "      <td>1291.45</td>\n",
       "      <td>1887.72</td>\n",
       "      <td>1171.56</td>\n",
       "      <td>816.08</td>\n",
       "    </tr>\n",
       "    <tr>\n",
       "      <th>qtd_transacoes_12m</th>\n",
       "      <td>42</td>\n",
       "      <td>33</td>\n",
       "      <td>20</td>\n",
       "      <td>20</td>\n",
       "      <td>28</td>\n",
       "    </tr>\n",
       "  </tbody>\n",
       "</table>\n",
       "</div>"
      ],
      "text/plain": [
       "                                    0               1             2  \\\n",
       "id                          768805383       818770008     713982108   \n",
       "default                             0               0             0   \n",
       "idade                              45              49            51   \n",
       "sexo                                M               F             M   \n",
       "dependentes                         3               5             3   \n",
       "escolaridade             ensino medio        mestrado      mestrado   \n",
       "estado_civil                   casado        solteiro        casado   \n",
       "salario_anual             $60K - $80K  menos que $40K  $80K - $120K   \n",
       "tipo_cartao                      blue            blue          blue   \n",
       "meses_de_relacionamento            39              44            36   \n",
       "qtd_produtos                        5               6             4   \n",
       "iteracoes_12m                       3               2             0   \n",
       "meses_inativo_12m                   1               1             1   \n",
       "limite_credito               12691.51         8256.96       3418.56   \n",
       "valor_transacoes_12m           1144.9         1291.45       1887.72   \n",
       "qtd_transacoes_12m                 42              33            20   \n",
       "\n",
       "                                      3                    4  \n",
       "id                            769911858            709106358  \n",
       "default                               0                    0  \n",
       "idade                                40                   40  \n",
       "sexo                                  F                    M  \n",
       "dependentes                           4                    3  \n",
       "escolaridade               ensino medio  sem educacao formal  \n",
       "estado_civil                        NaN               casado  \n",
       "salario_anual            menos que $40K          $60K - $80K  \n",
       "tipo_cartao                        blue                 blue  \n",
       "meses_de_relacionamento              34                   21  \n",
       "qtd_produtos                          3                    5  \n",
       "iteracoes_12m                         1                    0  \n",
       "meses_inativo_12m                     4                    1  \n",
       "limite_credito                  3313.03              4716.22  \n",
       "valor_transacoes_12m            1171.56               816.08  \n",
       "qtd_transacoes_12m                   20                   28  "
      ]
     },
     "execution_count": 16,
     "metadata": {},
     "output_type": "execute_result"
    }
   ],
   "source": [
    "# Verificação dos valores alterados na tabela:\n",
    "\n",
    "df.head().transpose()"
   ]
  },
  {
   "cell_type": "markdown",
   "metadata": {
    "id": "ZLxdltTN7axp"
   },
   "source": [
    "Possível notar que nas colunas alteradas `valor_transacoes_12m` e `limte_credito` que antes constavam valores, como: **\"12.691,51\"** da 1º linha passaram a demonstrar valores do tipo float e passou a ser **\"12691.51\"**"
   ]
  },
  {
   "cell_type": "code",
   "execution_count": 17,
   "metadata": {
    "execution": {
     "iopub.execute_input": "2024-06-19T00:54:41.43027Z",
     "iopub.status.busy": "2024-06-19T00:54:41.429922Z",
     "iopub.status.idle": "2024-06-19T00:54:41.444576Z",
     "shell.execute_reply": "2024-06-19T00:54:41.443356Z",
     "shell.execute_reply.started": "2024-06-19T00:54:41.430233Z"
    },
    "id": "nvnjWNP_PgeC",
    "outputId": "6e1ab720-6124-413b-db0f-7e19508f4d5d",
    "trusted": true
   },
   "outputs": [
    {
     "data": {
      "text/html": [
       "<div>\n",
       "<style scoped>\n",
       "    .dataframe tbody tr th:only-of-type {\n",
       "        vertical-align: middle;\n",
       "    }\n",
       "\n",
       "    .dataframe tbody tr th {\n",
       "        vertical-align: top;\n",
       "    }\n",
       "\n",
       "    .dataframe thead th {\n",
       "        text-align: right;\n",
       "    }\n",
       "</style>\n",
       "<table border=\"1\" class=\"dataframe\">\n",
       "  <thead>\n",
       "    <tr style=\"text-align: right;\">\n",
       "      <th></th>\n",
       "      <th>valor_transacoes_12m</th>\n",
       "      <th>limite_credito</th>\n",
       "    </tr>\n",
       "  </thead>\n",
       "  <tbody>\n",
       "    <tr>\n",
       "      <th>0</th>\n",
       "      <td>1144.90</td>\n",
       "      <td>12691.51</td>\n",
       "    </tr>\n",
       "    <tr>\n",
       "      <th>1</th>\n",
       "      <td>1291.45</td>\n",
       "      <td>8256.96</td>\n",
       "    </tr>\n",
       "    <tr>\n",
       "      <th>2</th>\n",
       "      <td>1887.72</td>\n",
       "      <td>3418.56</td>\n",
       "    </tr>\n",
       "    <tr>\n",
       "      <th>3</th>\n",
       "      <td>1171.56</td>\n",
       "      <td>3313.03</td>\n",
       "    </tr>\n",
       "    <tr>\n",
       "      <th>4</th>\n",
       "      <td>816.08</td>\n",
       "      <td>4716.22</td>\n",
       "    </tr>\n",
       "  </tbody>\n",
       "</table>\n",
       "</div>"
      ],
      "text/plain": [
       "   valor_transacoes_12m  limite_credito\n",
       "0               1144.90        12691.51\n",
       "1               1291.45         8256.96\n",
       "2               1887.72         3418.56\n",
       "3               1171.56         3313.03\n",
       "4                816.08         4716.22"
      ]
     },
     "execution_count": 17,
     "metadata": {},
     "output_type": "execute_result"
    }
   ],
   "source": [
    "df[['valor_transacoes_12m', 'limite_credito']].head(n=5)"
   ]
  },
  {
   "cell_type": "markdown",
   "metadata": {
    "id": "c7InPxOo8WfZ"
   },
   "source": [
    "##**4.4** Dados faltantes\n"
   ]
  },
  {
   "cell_type": "markdown",
   "metadata": {
    "id": "43ASwdexCwJp"
   },
   "source": [
    "Verificação e tratamento dos dados faltantes da tabela principal\n"
   ]
  },
  {
   "cell_type": "code",
   "execution_count": 18,
   "metadata": {
    "execution": {
     "iopub.execute_input": "2024-06-19T00:54:41.446522Z",
     "iopub.status.busy": "2024-06-19T00:54:41.44613Z",
     "iopub.status.idle": "2024-06-19T00:54:41.45836Z",
     "shell.execute_reply": "2024-06-19T00:54:41.457147Z",
     "shell.execute_reply.started": "2024-06-19T00:54:41.446484Z"
    },
    "id": "zR_dB6Z5DTnN",
    "outputId": "fa04b486-27f4-4186-d2bb-de8a7ff0f760",
    "trusted": true
   },
   "outputs": [
    {
     "data": {
      "text/html": [
       "<div>\n",
       "<style scoped>\n",
       "    .dataframe tbody tr th:only-of-type {\n",
       "        vertical-align: middle;\n",
       "    }\n",
       "\n",
       "    .dataframe tbody tr th {\n",
       "        vertical-align: top;\n",
       "    }\n",
       "\n",
       "    .dataframe thead th {\n",
       "        text-align: right;\n",
       "    }\n",
       "</style>\n",
       "<table border=\"1\" class=\"dataframe\">\n",
       "  <thead>\n",
       "    <tr style=\"text-align: right;\">\n",
       "      <th></th>\n",
       "      <th>0</th>\n",
       "    </tr>\n",
       "  </thead>\n",
       "  <tbody>\n",
       "    <tr>\n",
       "      <th>id</th>\n",
       "      <td>768805383</td>\n",
       "    </tr>\n",
       "    <tr>\n",
       "      <th>default</th>\n",
       "      <td>0</td>\n",
       "    </tr>\n",
       "    <tr>\n",
       "      <th>idade</th>\n",
       "      <td>45</td>\n",
       "    </tr>\n",
       "    <tr>\n",
       "      <th>sexo</th>\n",
       "      <td>M</td>\n",
       "    </tr>\n",
       "    <tr>\n",
       "      <th>dependentes</th>\n",
       "      <td>3</td>\n",
       "    </tr>\n",
       "    <tr>\n",
       "      <th>escolaridade</th>\n",
       "      <td>ensino medio</td>\n",
       "    </tr>\n",
       "    <tr>\n",
       "      <th>estado_civil</th>\n",
       "      <td>casado</td>\n",
       "    </tr>\n",
       "    <tr>\n",
       "      <th>salario_anual</th>\n",
       "      <td>$60K - $80K</td>\n",
       "    </tr>\n",
       "    <tr>\n",
       "      <th>tipo_cartao</th>\n",
       "      <td>blue</td>\n",
       "    </tr>\n",
       "    <tr>\n",
       "      <th>meses_de_relacionamento</th>\n",
       "      <td>39</td>\n",
       "    </tr>\n",
       "    <tr>\n",
       "      <th>qtd_produtos</th>\n",
       "      <td>5</td>\n",
       "    </tr>\n",
       "    <tr>\n",
       "      <th>iteracoes_12m</th>\n",
       "      <td>3</td>\n",
       "    </tr>\n",
       "    <tr>\n",
       "      <th>meses_inativo_12m</th>\n",
       "      <td>1</td>\n",
       "    </tr>\n",
       "    <tr>\n",
       "      <th>limite_credito</th>\n",
       "      <td>12691.51</td>\n",
       "    </tr>\n",
       "    <tr>\n",
       "      <th>valor_transacoes_12m</th>\n",
       "      <td>1144.9</td>\n",
       "    </tr>\n",
       "    <tr>\n",
       "      <th>qtd_transacoes_12m</th>\n",
       "      <td>42</td>\n",
       "    </tr>\n",
       "  </tbody>\n",
       "</table>\n",
       "</div>"
      ],
      "text/plain": [
       "                                    0\n",
       "id                          768805383\n",
       "default                             0\n",
       "idade                              45\n",
       "sexo                                M\n",
       "dependentes                         3\n",
       "escolaridade             ensino medio\n",
       "estado_civil                   casado\n",
       "salario_anual             $60K - $80K\n",
       "tipo_cartao                      blue\n",
       "meses_de_relacionamento            39\n",
       "qtd_produtos                        5\n",
       "iteracoes_12m                       3\n",
       "meses_inativo_12m                   1\n",
       "limite_credito               12691.51\n",
       "valor_transacoes_12m           1144.9\n",
       "qtd_transacoes_12m                 42"
      ]
     },
     "execution_count": 18,
     "metadata": {},
     "output_type": "execute_result"
    }
   ],
   "source": [
    "# Tabela principal:\n",
    "\n",
    "df.head(1).transpose()"
   ]
  },
  {
   "cell_type": "code",
   "execution_count": 19,
   "metadata": {
    "execution": {
     "iopub.execute_input": "2024-06-19T00:54:41.460372Z",
     "iopub.status.busy": "2024-06-19T00:54:41.460001Z",
     "iopub.status.idle": "2024-06-19T00:54:41.488949Z",
     "shell.execute_reply": "2024-06-19T00:54:41.487384Z",
     "shell.execute_reply.started": "2024-06-19T00:54:41.460343Z"
    },
    "id": "ei7LI14JA7Zl",
    "outputId": "d06b2228-f4ad-41c4-81d7-4f5f9096cafe",
    "trusted": true
   },
   "outputs": [
    {
     "data": {
      "text/html": [
       "<div>\n",
       "<style scoped>\n",
       "    .dataframe tbody tr th:only-of-type {\n",
       "        vertical-align: middle;\n",
       "    }\n",
       "\n",
       "    .dataframe tbody tr th {\n",
       "        vertical-align: top;\n",
       "    }\n",
       "\n",
       "    .dataframe thead th {\n",
       "        text-align: right;\n",
       "    }\n",
       "</style>\n",
       "<table border=\"1\" class=\"dataframe\">\n",
       "  <thead>\n",
       "    <tr style=\"text-align: right;\">\n",
       "      <th></th>\n",
       "      <th>count</th>\n",
       "      <th>unique</th>\n",
       "      <th>top</th>\n",
       "      <th>freq</th>\n",
       "    </tr>\n",
       "  </thead>\n",
       "  <tbody>\n",
       "    <tr>\n",
       "      <th>sexo</th>\n",
       "      <td>10127</td>\n",
       "      <td>2</td>\n",
       "      <td>F</td>\n",
       "      <td>5358</td>\n",
       "    </tr>\n",
       "    <tr>\n",
       "      <th>escolaridade</th>\n",
       "      <td>8608</td>\n",
       "      <td>5</td>\n",
       "      <td>mestrado</td>\n",
       "      <td>3128</td>\n",
       "    </tr>\n",
       "    <tr>\n",
       "      <th>estado_civil</th>\n",
       "      <td>9378</td>\n",
       "      <td>3</td>\n",
       "      <td>casado</td>\n",
       "      <td>4687</td>\n",
       "    </tr>\n",
       "    <tr>\n",
       "      <th>salario_anual</th>\n",
       "      <td>9015</td>\n",
       "      <td>5</td>\n",
       "      <td>menos que $40K</td>\n",
       "      <td>3561</td>\n",
       "    </tr>\n",
       "    <tr>\n",
       "      <th>tipo_cartao</th>\n",
       "      <td>10127</td>\n",
       "      <td>4</td>\n",
       "      <td>blue</td>\n",
       "      <td>9436</td>\n",
       "    </tr>\n",
       "  </tbody>\n",
       "</table>\n",
       "</div>"
      ],
      "text/plain": [
       "               count unique             top  freq\n",
       "sexo           10127      2               F  5358\n",
       "escolaridade    8608      5        mestrado  3128\n",
       "estado_civil    9378      3          casado  4687\n",
       "salario_anual   9015      5  menos que $40K  3561\n",
       "tipo_cartao    10127      4            blue  9436"
      ]
     },
     "execution_count": 19,
     "metadata": {},
     "output_type": "execute_result"
    }
   ],
   "source": [
    "# Verificação dos atributos categóricos da tabela acima:\n",
    "\n",
    "df.select_dtypes('object').describe().transpose()"
   ]
  },
  {
   "cell_type": "code",
   "execution_count": 20,
   "metadata": {
    "execution": {
     "iopub.execute_input": "2024-06-19T00:54:41.490868Z",
     "iopub.status.busy": "2024-06-19T00:54:41.490423Z",
     "iopub.status.idle": "2024-06-19T00:54:41.536142Z",
     "shell.execute_reply": "2024-06-19T00:54:41.535012Z",
     "shell.execute_reply.started": "2024-06-19T00:54:41.490773Z"
    },
    "id": "0jP4HfUdC_N8",
    "outputId": "a2a84245-a17f-4418-e95c-4b8d811ca076",
    "trusted": true
   },
   "outputs": [
    {
     "data": {
      "text/html": [
       "<div>\n",
       "<style scoped>\n",
       "    .dataframe tbody tr th:only-of-type {\n",
       "        vertical-align: middle;\n",
       "    }\n",
       "\n",
       "    .dataframe tbody tr th {\n",
       "        vertical-align: top;\n",
       "    }\n",
       "\n",
       "    .dataframe thead th {\n",
       "        text-align: right;\n",
       "    }\n",
       "</style>\n",
       "<table border=\"1\" class=\"dataframe\">\n",
       "  <thead>\n",
       "    <tr style=\"text-align: right;\">\n",
       "      <th></th>\n",
       "      <th>count</th>\n",
       "      <th>mean</th>\n",
       "      <th>std</th>\n",
       "      <th>min</th>\n",
       "      <th>25%</th>\n",
       "      <th>50%</th>\n",
       "      <th>75%</th>\n",
       "      <th>max</th>\n",
       "    </tr>\n",
       "  </thead>\n",
       "  <tbody>\n",
       "    <tr>\n",
       "      <th>default</th>\n",
       "      <td>10127.0</td>\n",
       "      <td>0.160660</td>\n",
       "      <td>0.367235</td>\n",
       "      <td>0.00</td>\n",
       "      <td>0.000</td>\n",
       "      <td>0.00</td>\n",
       "      <td>0.000</td>\n",
       "      <td>1.00</td>\n",
       "    </tr>\n",
       "    <tr>\n",
       "      <th>idade</th>\n",
       "      <td>10127.0</td>\n",
       "      <td>46.325960</td>\n",
       "      <td>8.016814</td>\n",
       "      <td>26.00</td>\n",
       "      <td>41.000</td>\n",
       "      <td>46.00</td>\n",
       "      <td>52.000</td>\n",
       "      <td>73.00</td>\n",
       "    </tr>\n",
       "    <tr>\n",
       "      <th>dependentes</th>\n",
       "      <td>10127.0</td>\n",
       "      <td>2.346203</td>\n",
       "      <td>1.298908</td>\n",
       "      <td>0.00</td>\n",
       "      <td>1.000</td>\n",
       "      <td>2.00</td>\n",
       "      <td>3.000</td>\n",
       "      <td>5.00</td>\n",
       "    </tr>\n",
       "    <tr>\n",
       "      <th>meses_de_relacionamento</th>\n",
       "      <td>10127.0</td>\n",
       "      <td>35.928409</td>\n",
       "      <td>7.986416</td>\n",
       "      <td>13.00</td>\n",
       "      <td>31.000</td>\n",
       "      <td>36.00</td>\n",
       "      <td>40.000</td>\n",
       "      <td>56.00</td>\n",
       "    </tr>\n",
       "    <tr>\n",
       "      <th>qtd_produtos</th>\n",
       "      <td>10127.0</td>\n",
       "      <td>3.812580</td>\n",
       "      <td>1.554408</td>\n",
       "      <td>1.00</td>\n",
       "      <td>3.000</td>\n",
       "      <td>4.00</td>\n",
       "      <td>5.000</td>\n",
       "      <td>6.00</td>\n",
       "    </tr>\n",
       "    <tr>\n",
       "      <th>iteracoes_12m</th>\n",
       "      <td>10127.0</td>\n",
       "      <td>2.455317</td>\n",
       "      <td>1.106225</td>\n",
       "      <td>0.00</td>\n",
       "      <td>2.000</td>\n",
       "      <td>2.00</td>\n",
       "      <td>3.000</td>\n",
       "      <td>6.00</td>\n",
       "    </tr>\n",
       "    <tr>\n",
       "      <th>meses_inativo_12m</th>\n",
       "      <td>10127.0</td>\n",
       "      <td>2.341167</td>\n",
       "      <td>1.010622</td>\n",
       "      <td>0.00</td>\n",
       "      <td>2.000</td>\n",
       "      <td>2.00</td>\n",
       "      <td>3.000</td>\n",
       "      <td>6.00</td>\n",
       "    </tr>\n",
       "    <tr>\n",
       "      <th>limite_credito</th>\n",
       "      <td>10127.0</td>\n",
       "      <td>8632.440165</td>\n",
       "      <td>9088.788041</td>\n",
       "      <td>1438.00</td>\n",
       "      <td>2555.355</td>\n",
       "      <td>4549.42</td>\n",
       "      <td>11068.175</td>\n",
       "      <td>34516.99</td>\n",
       "    </tr>\n",
       "    <tr>\n",
       "      <th>valor_transacoes_12m</th>\n",
       "      <td>10127.0</td>\n",
       "      <td>4404.583047</td>\n",
       "      <td>3397.128078</td>\n",
       "      <td>510.16</td>\n",
       "      <td>2155.825</td>\n",
       "      <td>3899.59</td>\n",
       "      <td>4741.310</td>\n",
       "      <td>18484.93</td>\n",
       "    </tr>\n",
       "    <tr>\n",
       "      <th>qtd_transacoes_12m</th>\n",
       "      <td>10127.0</td>\n",
       "      <td>64.858695</td>\n",
       "      <td>23.472570</td>\n",
       "      <td>10.00</td>\n",
       "      <td>45.000</td>\n",
       "      <td>67.00</td>\n",
       "      <td>81.000</td>\n",
       "      <td>139.00</td>\n",
       "    </tr>\n",
       "  </tbody>\n",
       "</table>\n",
       "</div>"
      ],
      "text/plain": [
       "                           count         mean          std      min       25%  \\\n",
       "default                  10127.0     0.160660     0.367235     0.00     0.000   \n",
       "idade                    10127.0    46.325960     8.016814    26.00    41.000   \n",
       "dependentes              10127.0     2.346203     1.298908     0.00     1.000   \n",
       "meses_de_relacionamento  10127.0    35.928409     7.986416    13.00    31.000   \n",
       "qtd_produtos             10127.0     3.812580     1.554408     1.00     3.000   \n",
       "iteracoes_12m            10127.0     2.455317     1.106225     0.00     2.000   \n",
       "meses_inativo_12m        10127.0     2.341167     1.010622     0.00     2.000   \n",
       "limite_credito           10127.0  8632.440165  9088.788041  1438.00  2555.355   \n",
       "valor_transacoes_12m     10127.0  4404.583047  3397.128078   510.16  2155.825   \n",
       "qtd_transacoes_12m       10127.0    64.858695    23.472570    10.00    45.000   \n",
       "\n",
       "                             50%        75%       max  \n",
       "default                     0.00      0.000      1.00  \n",
       "idade                      46.00     52.000     73.00  \n",
       "dependentes                 2.00      3.000      5.00  \n",
       "meses_de_relacionamento    36.00     40.000     56.00  \n",
       "qtd_produtos                4.00      5.000      6.00  \n",
       "iteracoes_12m               2.00      3.000      6.00  \n",
       "meses_inativo_12m           2.00      3.000      6.00  \n",
       "limite_credito           4549.42  11068.175  34516.99  \n",
       "valor_transacoes_12m     3899.59   4741.310  18484.93  \n",
       "qtd_transacoes_12m         67.00     81.000    139.00  "
      ]
     },
     "execution_count": 20,
     "metadata": {},
     "output_type": "execute_result"
    }
   ],
   "source": [
    "# Verificação dos atributos númericos da tabela principal\n",
    "\n",
    "df.drop('id', axis=1).select_dtypes('number').describe().transpose()"
   ]
  },
  {
   "cell_type": "markdown",
   "metadata": {
    "id": "ZwZhNk4sDtdH"
   },
   "source": [
    "E possível observar que na tabela dos atributos categóricos, a coluna denominada como **\"count\"** de alguns dados não está de acordo com a quantidade total de linhas do nosso dataframe. É um indicador que há informações faltantes destes dados."
   ]
  },
  {
   "cell_type": "code",
   "execution_count": 21,
   "metadata": {
    "execution": {
     "iopub.execute_input": "2024-06-19T00:54:41.538086Z",
     "iopub.status.busy": "2024-06-19T00:54:41.537667Z",
     "iopub.status.idle": "2024-06-19T00:54:41.551172Z",
     "shell.execute_reply": "2024-06-19T00:54:41.549954Z",
     "shell.execute_reply.started": "2024-06-19T00:54:41.538047Z"
    },
    "id": "aB6KtdNVEt5l",
    "outputId": "d72b3a68-2a61-4e40-b4e3-3a6626f99d03",
    "trusted": true
   },
   "outputs": [
    {
     "data": {
      "text/plain": [
       "id                         False\n",
       "default                    False\n",
       "idade                      False\n",
       "sexo                       False\n",
       "dependentes                False\n",
       "escolaridade                True\n",
       "estado_civil                True\n",
       "salario_anual               True\n",
       "tipo_cartao                False\n",
       "meses_de_relacionamento    False\n",
       "qtd_produtos               False\n",
       "iteracoes_12m              False\n",
       "meses_inativo_12m          False\n",
       "limite_credito             False\n",
       "valor_transacoes_12m       False\n",
       "qtd_transacoes_12m         False\n",
       "dtype: bool"
      ]
     },
     "execution_count": 21,
     "metadata": {},
     "output_type": "execute_result"
    }
   ],
   "source": [
    "# Verificação de dados faltantes em alguma linha das colunas de dados:\n",
    "\n",
    "df.isna().any()"
   ]
  },
  {
   "cell_type": "markdown",
   "metadata": {
    "id": "C5hJHPa-F6LB"
   },
   "source": [
    "Neste caso os dados sobre `escolaridade`, `estado_civil` e `salario_anual` estão desfalcados, prejudicando a análise correta do nosso DataFrame"
   ]
  },
  {
   "cell_type": "markdown",
   "metadata": {
    "id": "6IBrvriBHWYZ"
   },
   "source": [
    "## **4.5 Remoção de dados faltantes**\n",
    "\n"
   ]
  },
  {
   "cell_type": "code",
   "execution_count": 22,
   "metadata": {
    "execution": {
     "iopub.execute_input": "2024-06-19T00:54:41.553136Z",
     "iopub.status.busy": "2024-06-19T00:54:41.552669Z",
     "iopub.status.idle": "2024-06-19T00:54:41.560967Z",
     "shell.execute_reply": "2024-06-19T00:54:41.559817Z",
     "shell.execute_reply.started": "2024-06-19T00:54:41.553107Z"
    },
    "id": "ujjTunPDmr3p",
    "trusted": true
   },
   "outputs": [],
   "source": [
    "# Função para descrever a quantidade de dados faltantes das colunas em relação a quantidade total:\n",
    "\n",
    "def apuracao_dados_faltantes(df: pd.DataFrame) -> None:\n",
    "\n",
    "  dados_faltantes = list()\n",
    "  for coluna in df.columns:\n",
    "    if df[coluna].isna().any():\n",
    "      quantidade_faltante_coluna, _ = df[df[coluna].isna()].shape\n",
    "      quantidade_faltante_total, _ = df.shape\n",
    "      resultado_dados_faltantes = {\n",
    "          coluna: {'quantidade de dados faltantes': f'{quantidade_faltante_coluna} linhas',\n",
    "                   '% em relação ao total': f'{round(quantidade_faltante_coluna/quantidade_faltante_total * 100, 2)}%'}\n",
    "                   }\n",
    "      dados_faltantes.append(resultado_dados_faltantes)\n",
    "\n",
    "  print(f'Quantidade total de linhas: {df.shape[0]}\\n')\n",
    "\n",
    "  for resultado in dados_faltantes:\n",
    "    print(resultado)"
   ]
  },
  {
   "cell_type": "code",
   "execution_count": 23,
   "metadata": {
    "execution": {
     "iopub.execute_input": "2024-06-19T00:54:41.562663Z",
     "iopub.status.busy": "2024-06-19T00:54:41.562308Z",
     "iopub.status.idle": "2024-06-19T00:54:41.582699Z",
     "shell.execute_reply": "2024-06-19T00:54:41.581283Z",
     "shell.execute_reply.started": "2024-06-19T00:54:41.562627Z"
    },
    "id": "XYtQN-i9NnEj",
    "outputId": "f9ce721b-9b4c-4749-9819-83524679d49b",
    "trusted": true
   },
   "outputs": [
    {
     "name": "stdout",
     "output_type": "stream",
     "text": [
      "Quantidade total de linhas: 10127\n",
      "\n",
      "{'escolaridade': {'quantidade de dados faltantes': '1519 linhas', '% em relação ao total': '15.0%'}}\n",
      "{'estado_civil': {'quantidade de dados faltantes': '749 linhas', '% em relação ao total': '7.4%'}}\n",
      "{'salario_anual': {'quantidade de dados faltantes': '1112 linhas', '% em relação ao total': '10.98%'}}\n"
     ]
    }
   ],
   "source": [
    "# Função para a visualização da quantidade de linhas com dados faltantes\n",
    "\n",
    "apuracao_dados_faltantes(df=df)"
   ]
  },
  {
   "cell_type": "code",
   "execution_count": 24,
   "metadata": {
    "execution": {
     "iopub.execute_input": "2024-06-19T00:54:41.585113Z",
     "iopub.status.busy": "2024-06-19T00:54:41.584376Z",
     "iopub.status.idle": "2024-06-19T00:54:41.602763Z",
     "shell.execute_reply": "2024-06-19T00:54:41.601244Z",
     "shell.execute_reply.started": "2024-06-19T00:54:41.585069Z"
    },
    "id": "xjWvYMtRnh5_",
    "outputId": "504b67fa-c27b-4e84-dab6-70cf5c5fc9e6",
    "trusted": true
   },
   "outputs": [
    {
     "name": "stdout",
     "output_type": "stream",
     "text": [
      "Quantidade total de linhas: 8500\n",
      "\n",
      "{'escolaridade': {'quantidade de dados faltantes': '1263 linhas', '% em relação ao total': '14.86%'}}\n",
      "{'estado_civil': {'quantidade de dados faltantes': '620 linhas', '% em relação ao total': '7.29%'}}\n",
      "{'salario_anual': {'quantidade de dados faltantes': '925 linhas', '% em relação ao total': '10.88%'}}\n"
     ]
    }
   ],
   "source": [
    "# Quantidade de linhas nas colunas com dados faltantes dos clientes adimplentes:\n",
    "\n",
    "apuracao_dados_faltantes(df=df[df['default'] == 0])"
   ]
  },
  {
   "cell_type": "code",
   "execution_count": 25,
   "metadata": {
    "execution": {
     "iopub.execute_input": "2024-06-19T00:54:41.604716Z",
     "iopub.status.busy": "2024-06-19T00:54:41.604353Z",
     "iopub.status.idle": "2024-06-19T00:54:41.618611Z",
     "shell.execute_reply": "2024-06-19T00:54:41.617287Z",
     "shell.execute_reply.started": "2024-06-19T00:54:41.60467Z"
    },
    "id": "fwhVOI2pnsNC",
    "outputId": "5bac68b9-ae49-429e-be72-0f6cb7fbd24c",
    "trusted": true
   },
   "outputs": [
    {
     "name": "stdout",
     "output_type": "stream",
     "text": [
      "Quantidade total de linhas: 1627\n",
      "\n",
      "{'escolaridade': {'quantidade de dados faltantes': '256 linhas', '% em relação ao total': '15.73%'}}\n",
      "{'estado_civil': {'quantidade de dados faltantes': '129 linhas', '% em relação ao total': '7.93%'}}\n",
      "{'salario_anual': {'quantidade de dados faltantes': '187 linhas', '% em relação ao total': '11.49%'}}\n"
     ]
    }
   ],
   "source": [
    "# Quantidade de linhas nas colunas com dados faltantes dos clientes inadimplentes:\n",
    "\n",
    "apuracao_dados_faltantes(df=df[df['default'] == 1])"
   ]
  },
  {
   "cell_type": "markdown",
   "metadata": {
    "id": "qAUGJLfKoV9L"
   },
   "source": [
    "Com a apuração detalhada sobre cada tipo de cliente, nota-se que a quantidade de dados faltantes é semelhante."
   ]
  },
  {
   "cell_type": "code",
   "execution_count": 26,
   "metadata": {
    "execution": {
     "iopub.execute_input": "2024-06-19T00:54:41.620639Z",
     "iopub.status.busy": "2024-06-19T00:54:41.620239Z",
     "iopub.status.idle": "2024-06-19T00:54:41.637794Z",
     "shell.execute_reply": "2024-06-19T00:54:41.636532Z",
     "shell.execute_reply.started": "2024-06-19T00:54:41.620608Z"
    },
    "id": "PACLJJnsLgak",
    "outputId": "2e5eef4c-fd87-4b52-8576-7d4e1be6cfc0",
    "trusted": true
   },
   "outputs": [
    {
     "data": {
      "text/plain": [
       "id                         False\n",
       "default                    False\n",
       "idade                      False\n",
       "sexo                       False\n",
       "dependentes                False\n",
       "escolaridade               False\n",
       "estado_civil               False\n",
       "salario_anual              False\n",
       "tipo_cartao                False\n",
       "meses_de_relacionamento    False\n",
       "qtd_produtos               False\n",
       "iteracoes_12m              False\n",
       "meses_inativo_12m          False\n",
       "limite_credito             False\n",
       "valor_transacoes_12m       False\n",
       "qtd_transacoes_12m         False\n",
       "dtype: bool"
      ]
     },
     "execution_count": 26,
     "metadata": {},
     "output_type": "execute_result"
    }
   ],
   "source": [
    "# Função utilizada para remoção de linhas com valores ausentes, com parâmetro para ser realizada no próprio DataFrame\n",
    "\n",
    "df.dropna(inplace=True)\n",
    "df.isna().any()"
   ]
  },
  {
   "cell_type": "code",
   "execution_count": 27,
   "metadata": {
    "execution": {
     "iopub.execute_input": "2024-06-19T00:54:41.63958Z",
     "iopub.status.busy": "2024-06-19T00:54:41.639236Z",
     "iopub.status.idle": "2024-06-19T00:54:41.650922Z",
     "shell.execute_reply": "2024-06-19T00:54:41.647811Z",
     "shell.execute_reply.started": "2024-06-19T00:54:41.639552Z"
    },
    "id": "sgUJNDeBudNh",
    "outputId": "3fd67235-c6f2-441f-d2b1-fbcad3ff8844",
    "trusted": true
   },
   "outputs": [
    {
     "data": {
      "text/plain": [
       "5968"
      ]
     },
     "execution_count": 27,
     "metadata": {},
     "output_type": "execute_result"
    }
   ],
   "source": [
    "# Verificação da nova quantidade de linhas de cliente adimplentes após a remoção dos dados faltantes\n",
    "\n",
    "df[df['default'] == 0].shape[0]"
   ]
  },
  {
   "cell_type": "code",
   "execution_count": 28,
   "metadata": {
    "execution": {
     "iopub.execute_input": "2024-06-19T00:54:41.657828Z",
     "iopub.status.busy": "2024-06-19T00:54:41.657473Z",
     "iopub.status.idle": "2024-06-19T00:54:41.667097Z",
     "shell.execute_reply": "2024-06-19T00:54:41.66595Z",
     "shell.execute_reply.started": "2024-06-19T00:54:41.657799Z"
    },
    "id": "_ZpnKBC0unxs",
    "outputId": "d034c180-3cfd-482a-bb78-1ce93cfbe14f",
    "trusted": true
   },
   "outputs": [
    {
     "data": {
      "text/plain": [
       "1113"
      ]
     },
     "execution_count": 28,
     "metadata": {},
     "output_type": "execute_result"
    }
   ],
   "source": [
    "# Verificação da nova quantidade de linhas de cliente inadimplentes após a remoção dos dados faltantes\n",
    "\n",
    "df[df['default'] == 1].shape[0]"
   ]
  },
  {
   "cell_type": "code",
   "execution_count": 29,
   "metadata": {
    "execution": {
     "iopub.execute_input": "2024-06-19T00:54:41.669273Z",
     "iopub.status.busy": "2024-06-19T00:54:41.668869Z",
     "iopub.status.idle": "2024-06-19T00:54:41.682768Z",
     "shell.execute_reply": "2024-06-19T00:54:41.681477Z",
     "shell.execute_reply.started": "2024-06-19T00:54:41.669236Z"
    },
    "id": "DYmkiuIUqQL7",
    "outputId": "9cbcd5d9-7746-4503-e5fa-e5557ad9c649",
    "trusted": true
   },
   "outputs": [
    {
     "name": "stdout",
     "output_type": "stream",
     "text": [
      "A quantidade total de linhas antes da remoção de dados faltantes: \n",
      "\n",
      "Quantidade total de linhas: : 10127\n",
      "Quantidade linha adimplentes: : 8500\n",
      "Quantidade linhas inadimplentes: : 1627\n",
      "\n",
      " Atualização do total de linhas após a remoção de dados faltantes: \n",
      "\n",
      "Quantidade total de linhas após remoção: : 7081\n",
      "Quantidade linhas adimplentes após remoção: : 5968\n",
      "Quantidade linhas inadimplentes após remoção: : 1113\n"
     ]
    }
   ],
   "source": [
    "# Comparação do total de linhas antes e após a remoção dos dados faltantes\n",
    "\n",
    "print(f'A quantidade total de linhas antes da remoção de dados faltantes: \\n')\n",
    "\n",
    "qtd_original = {'Quantidade total de linhas: ': qtd_total_linhas,\n",
    "                'Quantidade linha adimplentes: ': qtd_linhas_adimplentes,\n",
    "                'Quantidade linhas inadimplentes: ': qtd_linhas_inadimplentes}\n",
    "\n",
    "for key, value in qtd_original.items():\n",
    "  print(f'{key}: {value}')\n",
    "\n",
    "print(f'\\n Atualização do total de linhas após a remoção de dados faltantes: \\n')\n",
    "\n",
    "qtd_atualizada = {'Quantidade total de linhas após remoção: ': df.shape[0],\n",
    "                  'Quantidade linhas adimplentes após remoção: ': df[df['default'] == 0].shape[0],\n",
    "                  'Quantidade linhas inadimplentes após remoção: ': df[df['default'] == 1].shape[0]}\n",
    "\n",
    "for key, value in qtd_atualizada.items():\n",
    "  print(f'{key}: {value}')\n"
   ]
  },
  {
   "cell_type": "code",
   "execution_count": 30,
   "metadata": {
    "execution": {
     "iopub.execute_input": "2024-06-19T00:54:41.685292Z",
     "iopub.status.busy": "2024-06-19T00:54:41.684843Z",
     "iopub.status.idle": "2024-06-19T00:54:41.701621Z",
     "shell.execute_reply": "2024-06-19T00:54:41.700221Z",
     "shell.execute_reply.started": "2024-06-19T00:54:41.685253Z"
    },
    "id": "dAqx2mLNu0uQ",
    "outputId": "10b1e871-8553-47a4-ac29-1a40c8542f5d",
    "trusted": true
   },
   "outputs": [
    {
     "name": "stdout",
     "output_type": "stream",
     "text": [
      "A proporção de linhas de clientes adimplentes antes da remoção de dados faltantes: \n",
      "\n",
      "A proporcão clientes adimplentes antes da remoção é de 83.93%\n",
      "A proporção de cliente adimplentes após a remoção é de 84.28%\n",
      "Diferença de 0.35%\n",
      "\n",
      "A proporção de linhas de clientes inadimplentes antes da remoção de dados faltantes: \n",
      "\n",
      "A proporcão clientes inadimplentes antes da remoção é de 16.07%\n",
      "A proporção de cliente inadimplentes após a remoção é de 15.72%\n",
      "Diferença de 0.35%\n",
      "\n"
     ]
    }
   ],
   "source": [
    "# Comparação das proporções antes e após a remoção dos dados faltantes\n",
    "\n",
    "print(f'A proporção de linhas de clientes adimplentes antes da remoção de dados faltantes: \\n')\n",
    "\n",
    "prop_adimplentes_original = round(100 * qtd_linhas_adimplentes / qtd_total_linhas, 2)\n",
    "prop_adimplentes_atualizado = round(100 * df[df['default'] == 0].shape[0] / df.shape[0], 2)\n",
    "\n",
    "print(f'A proporcão clientes adimplentes antes da remoção é de {prop_adimplentes_original}%')\n",
    "print(f'A proporção de cliente adimplentes após a remoção é de {prop_adimplentes_atualizado}%')\n",
    "print(f'Diferença de {abs(round(prop_adimplentes_atualizado - prop_adimplentes_original, 2))}%\\n')\n",
    "\n",
    "print(f'A proporção de linhas de clientes inadimplentes antes da remoção de dados faltantes: \\n')\n",
    "\n",
    "prop_inadimplentes_original = round(100 * qtd_linhas_inadimplentes / qtd_total_linhas, 2)\n",
    "prop_inadimplentes_atualizado = round(100 * df[df['default'] == 1].shape[0] / df.shape[0], 2)\n",
    "\n",
    "print(f'A proporcão clientes inadimplentes antes da remoção é de {prop_inadimplentes_original}%')\n",
    "print(f'A proporção de cliente inadimplentes após a remoção é de {prop_inadimplentes_atualizado}%')\n",
    "print(f'Diferença de {abs(round(prop_inadimplentes_atualizado - prop_inadimplentes_original, 2))}%\\n')\n",
    "\n"
   ]
  },
  {
   "cell_type": "markdown",
   "metadata": {
    "id": "TYsGaHz8x_Im"
   },
   "source": [
    "#**5. Visualização de dados**\n"
   ]
  },
  {
   "cell_type": "markdown",
   "metadata": {
    "id": "sJpXNT77pPig"
   },
   "source": [
    "Os dados estão prontos, vamos criar diversas visualizações para correlacionar variáveis explicativas com a variável resposta para buscar entender qual fator leva um cliente a inadimplência."
   ]
  },
  {
   "cell_type": "code",
   "execution_count": 31,
   "metadata": {
    "execution": {
     "iopub.execute_input": "2024-06-19T00:54:41.703569Z",
     "iopub.status.busy": "2024-06-19T00:54:41.703145Z",
     "iopub.status.idle": "2024-06-19T00:54:41.711744Z",
     "shell.execute_reply": "2024-06-19T00:54:41.709955Z",
     "shell.execute_reply.started": "2024-06-19T00:54:41.70353Z"
    },
    "id": "NkN4P1tGSlFI",
    "trusted": true
   },
   "outputs": [
    {
     "ename": "NameError",
     "evalue": "name 'sns' is not defined",
     "output_type": "error",
     "traceback": [
      "\u001b[1;31m---------------------------------------------------------------------------\u001b[0m",
      "\u001b[1;31mNameError\u001b[0m                                 Traceback (most recent call last)",
      "Cell \u001b[1;32mIn[31], line 3\u001b[0m\n\u001b[0;32m      1\u001b[0m \u001b[38;5;66;03m# Definição do estilo de visualização do seaborn:\u001b[39;00m\n\u001b[1;32m----> 3\u001b[0m \u001b[43msns\u001b[49m\u001b[38;5;241m.\u001b[39mset_style(\u001b[38;5;124m'\u001b[39m\u001b[38;5;124mdarkgrid\u001b[39m\u001b[38;5;124m'\u001b[39m)\n",
      "\u001b[1;31mNameError\u001b[0m: name 'sns' is not defined"
     ]
    }
   ],
   "source": [
    "# Definição do estilo de visualização do seaborn:\n",
    "\n",
    "sns.set_style('darkgrid')"
   ]
  },
  {
   "cell_type": "code",
   "execution_count": null,
   "metadata": {
    "execution": {
     "iopub.execute_input": "2024-06-19T00:54:41.713497Z",
     "iopub.status.busy": "2024-06-19T00:54:41.713131Z",
     "iopub.status.idle": "2024-06-19T00:54:41.726302Z",
     "shell.execute_reply": "2024-06-19T00:54:41.725077Z",
     "shell.execute_reply.started": "2024-06-19T00:54:41.713442Z"
    },
    "id": "Q4CAanAhprrP",
    "trusted": true
   },
   "outputs": [],
   "source": [
    "# Definição de cada variável para cada DataFrame:\n",
    "\n",
    "df = df\n",
    "df_adimplente = df[df['default'] == 0]\n",
    "df_inadimplente = df[df['default'] == 1]"
   ]
  },
  {
   "cell_type": "markdown",
   "metadata": {
    "id": "Sjd39r9RrAWV"
   },
   "source": [
    "##**5.1 Visualizações dos dados categóricos**"
   ]
  },
  {
   "cell_type": "code",
   "execution_count": null,
   "metadata": {
    "execution": {
     "iopub.execute_input": "2024-06-19T00:54:41.72826Z",
     "iopub.status.busy": "2024-06-19T00:54:41.727862Z",
     "iopub.status.idle": "2024-06-19T00:54:41.743369Z",
     "shell.execute_reply": "2024-06-19T00:54:41.7423Z",
     "shell.execute_reply.started": "2024-06-19T00:54:41.728222Z"
    },
    "id": "O2bBTZ2PS85K",
    "outputId": "2732f178-f3db-46ba-c70a-d9f7df8bf182",
    "trusted": true
   },
   "outputs": [],
   "source": [
    "df.select_dtypes('object').head(n=5)"
   ]
  },
  {
   "cell_type": "markdown",
   "metadata": {
    "id": "CoNRivnGW-Jf"
   },
   "source": [
    "Visualização do Data Frame sobre informações categóricas:"
   ]
  },
  {
   "cell_type": "code",
   "execution_count": null,
   "metadata": {
    "execution": {
     "iopub.execute_input": "2024-06-19T00:54:41.745824Z",
     "iopub.status.busy": "2024-06-19T00:54:41.745386Z",
     "iopub.status.idle": "2024-06-19T00:54:45.034123Z",
     "shell.execute_reply": "2024-06-19T00:54:45.032939Z",
     "shell.execute_reply.started": "2024-06-19T00:54:41.745787Z"
    },
    "id": "z-kmwrubFaOM",
    "outputId": "90a5e2a6-45ee-4842-bbf4-0e2f1e2f4f78",
    "trusted": true
   },
   "outputs": [],
   "source": [
    "cores_personalizadas = ['#0000FF','#FFA500', '#008000','#FF0000','#A020F0']\n",
    "\n",
    "# DataFrame com informações de escolaridade:\n",
    "\n",
    "coluna = 'escolaridade'\n",
    "titulos = ['Escolaridade dos Clientes', 'Escolaridade dos Clientes Adimplentes', 'Escolaridade dos Clientes Inadimplentes']\n",
    "eixo = 0\n",
    "max_y = 0\n",
    "max = df.select_dtypes('object').describe()[coluna]['freq'] * 1.1\n",
    "figura, eixos = plt.subplots(1, 3, figsize=(20, 5), sharex=True)\n",
    "max_y = 0\n",
    "\n",
    "for eixo, dataframe in enumerate([df, df_adimplente, df_inadimplente]):\n",
    "  df_to_plot = dataframe[coluna].value_counts().reset_index()\n",
    "  df_to_plot.columns = [coluna, 'frequencia_absoluta']\n",
    "  df_to_plot.sort_values(by=[coluna], inplace=True)\n",
    "\n",
    "  f = sns.barplot(data=df_to_plot, x=coluna, y='frequencia_absoluta', ax=eixos[eixo], palette=cores_personalizadas)\n",
    "  f.set(title=titulos[eixo], xlabel=coluna.capitalize(), ylabel='Frequência Absoluta')\n",
    "  f.set_xticklabels(labels=f.get_xticklabels(), rotation=90)\n",
    "\n",
    "  _, max_y_f = f.get_ylim()\n",
    "  max_y = max_y_f if max_y_f > max_y else max_y\n",
    "\n",
    "for eixo in eixos:\n",
    "  eixo.set(ylim=(0, max_y))\n",
    "\n",
    "#DataFrame com informações sobre o estado civil dos clientes:\n",
    "\n",
    "coluna = 'estado_civil'\n",
    "titulos = ['Estado civil dos Clientes', 'Estado civil dos Clientes Adimplentes', 'Estado civil dos Clientes Inadimplentes']\n",
    "eixo = 0\n",
    "max_y = 0\n",
    "max = df.select_dtypes('object').describe()[coluna]['freq'] * 1.1\n",
    "figura, eixos = plt.subplots(1, 3, figsize=(20, 5), sharex=True)\n",
    "max_y = 0\n",
    "\n",
    "for eixo, dataframe in enumerate([df, df_adimplente, df_inadimplente]):\n",
    "  df_to_plot = dataframe[coluna].value_counts().reset_index()\n",
    "  df_to_plot.columns = [coluna, 'frequencia_absoluta']\n",
    "  df_to_plot.sort_values(by=[coluna], inplace=True)\n",
    "\n",
    "  f = sns.barplot(data=df_to_plot, x=coluna, y='frequencia_absoluta', ax=eixos[eixo], palette=cores_personalizadas)\n",
    "  f.set(title=titulos[eixo], xlabel=coluna.capitalize(), ylabel='Frequência Absoluta')\n",
    "  f.set_xticklabels(labels=f.get_xticklabels(), rotation=90)\n",
    "\n",
    "  _, max_y_f = f.get_ylim()\n",
    "  max_y = max_y_f if max_y_f > max_y else max_y\n",
    "\n",
    "for eixo in eixos:\n",
    "  eixo.set(ylim=(0, max_y))\n",
    "\n",
    "# DataFrame com informações de salário anual dos clientes:\n",
    "\n",
    "coluna = 'salario_anual'\n",
    "titulos = ['Salário anual dos Clientes', 'Salário anual dos Clientes Adimplentes', 'Salário anual dos Clientes Inadimplentes']\n",
    "eixo = 0\n",
    "max_y = 0\n",
    "max = df.select_dtypes('object').describe()[coluna]['freq'] * 1.1\n",
    "figura, eixos = plt.subplots(1, 3, figsize=(20, 5), sharex=True)\n",
    "max_y = 0\n",
    "\n",
    "for eixo, dataframe in enumerate([df, df_adimplente, df_inadimplente]):\n",
    "  df_to_plot = dataframe[coluna].value_counts().reset_index()\n",
    "  df_to_plot.columns = [coluna, 'frequencia_absoluta']\n",
    "  df_to_plot.sort_values(by=[coluna], inplace=True)\n",
    "\n",
    "  f = sns.barplot(data=df_to_plot, x=coluna, y='frequencia_absoluta', ax=eixos[eixo], palette=cores_personalizadas)\n",
    "  f.set(title=titulos[eixo], xlabel=coluna.capitalize(), ylabel='Frequência Absoluta')\n",
    "  f.set_xticklabels(labels=f.get_xticklabels(), rotation=90)\n",
    "\n",
    "  _, max_y_f = f.get_ylim()\n",
    "  max_y = max_y_f if max_y_f > max_y else max_y\n",
    "\n",
    "for eixo in eixos:\n",
    "  eixo.set(ylim=(0, max_y))\n",
    "\n",
    "# DataFrame com informações do cartão utilizado pelos clientes:\n",
    "\n",
    "coluna = 'tipo_cartao'\n",
    "titulos = ['Cartão utilizado pelos Clientes', 'Cartão utilizado por Clientes Adimplentes', 'Cartão utilizado por Clientes Inadimplentes']\n",
    "eixo = 0\n",
    "max_y = 0\n",
    "max = df.select_dtypes('object').describe()[coluna]['freq'] * 1.1\n",
    "figura, eixos = plt.subplots(1, 3, figsize=(20, 5), sharex=True)\n",
    "max_y = 0\n",
    "\n",
    "for eixo, dataframe in enumerate([df, df_adimplente, df_inadimplente]):\n",
    "  df_to_plot = dataframe[coluna].value_counts().reset_index()\n",
    "  df_to_plot.columns = [coluna, 'frequencia_absoluta']\n",
    "  df_to_plot.sort_values(by=[coluna], inplace=True)\n",
    "\n",
    "  f = sns.barplot(data=df_to_plot, x=coluna, y='frequencia_absoluta', ax=eixos[eixo], palette=cores_personalizadas)\n",
    "  f.set(title=titulos[eixo], xlabel=coluna.capitalize(), ylabel='Frequência Absoluta')\n",
    "  f.set_xticklabels(labels=f.get_xticklabels(), rotation=90)\n",
    "\n",
    "  _, max_y_f = f.get_ylim()\n",
    "  max_y = max_y_f if max_y_f > max_y else max_y\n",
    "\n",
    "for eixo in eixos:\n",
    "  eixo.set(ylim=(0, max_y))\n",
    "\n",
    "plt.show()\n",
    "figura.show()"
   ]
  },
  {
   "cell_type": "markdown",
   "metadata": {
    "id": "lCtr6wlyWuQB"
   },
   "source": [
    "Não foi gerado um DataFrame sobre informações de gênero dos clientes por se tratar de um dado sensível."
   ]
  },
  {
   "cell_type": "markdown",
   "metadata": {
    "id": "cBIWU4zISIqR"
   },
   "source": [
    "## **5.2. Visualizações de dados numéricos**"
   ]
  },
  {
   "cell_type": "markdown",
   "metadata": {
    "id": "DWKf-t4iqpFK"
   },
   "source": [
    "Nesta seção, vamos visualizar a relação entre a variável resposta **default** com os atributos numéricos."
   ]
  },
  {
   "cell_type": "code",
   "execution_count": null,
   "metadata": {
    "execution": {
     "iopub.execute_input": "2024-06-19T00:54:45.035916Z",
     "iopub.status.busy": "2024-06-19T00:54:45.035528Z",
     "iopub.status.idle": "2024-06-19T00:54:45.057208Z",
     "shell.execute_reply": "2024-06-19T00:54:45.055916Z",
     "shell.execute_reply.started": "2024-06-19T00:54:45.03588Z"
    },
    "id": "NEEhLdj0qoUd",
    "outputId": "0365de6d-f324-45ae-cf98-b4bfb3e11955",
    "trusted": true
   },
   "outputs": [],
   "source": [
    "df.drop(['id', 'default'], axis=1).select_dtypes('number').head(n=5)"
   ]
  },
  {
   "cell_type": "markdown",
   "metadata": {
    "id": "G7YNmSRQq6fp"
   },
   "source": [
    " - Quantidade de Transações nos Últimos 12 Meses"
   ]
  },
  {
   "cell_type": "code",
   "execution_count": null,
   "metadata": {
    "execution": {
     "iopub.execute_input": "2024-06-19T00:54:45.05989Z",
     "iopub.status.busy": "2024-06-19T00:54:45.059363Z",
     "iopub.status.idle": "2024-06-19T00:54:57.12509Z",
     "shell.execute_reply": "2024-06-19T00:54:57.123961Z",
     "shell.execute_reply.started": "2024-06-19T00:54:45.059851Z"
    },
    "id": "glzqJ2HvRxA_",
    "outputId": "46c8d6b5-afe0-4ee7-9fdd-72253b8e6f1c",
    "trusted": true
   },
   "outputs": [],
   "source": [
    "# DataFrame com informações sobre a quantidade de transações nos últimos 12 meses:\n",
    "\n",
    "coluna = 'idade'\n",
    "titulos = ['Total idade dos clientes', 'Total da idade de Clientes Adimplentes', 'Total da idade de Clientes Inadimplentes']\n",
    "\n",
    "eixo = 0\n",
    "max_y = 0\n",
    "figura, eixos = plt.subplots(1,3, figsize=(20, 5), sharex=True)\n",
    "\n",
    "for dataframe in [df, df_adimplente, df_inadimplente]:\n",
    "\n",
    "  f = sns.histplot(x=coluna, data=dataframe, stat='count', ax=eixos[eixo])\n",
    "  f.set(title=titulos[eixo], xlabel=coluna.capitalize(), ylabel='Frequência Absoluta')\n",
    "\n",
    "  _, max_y_f = f.get_ylim()\n",
    "  max_y = max_y_f if max_y_f > max_y else max_y\n",
    "  f.set(ylim=(0, max_y))\n",
    "\n",
    "  eixo += 1\n",
    "\n",
    " # DataFrame com informações sobre os dependentes dos clintes do Banco:\n",
    "\n",
    "coluna = 'dependentes'\n",
    "titulos = ['Total de dependentes', 'Total de dependentes de Clientes Adimplentes', 'Total de dependentes de Clientes Inadimplentes']\n",
    "\n",
    "eixo = 0\n",
    "max_y = 0\n",
    "figura, eixos = plt.subplots(1,3, figsize=(20, 5), sharex=True)\n",
    "\n",
    "for dataframe in [df, df_adimplente, df_inadimplente]:\n",
    "\n",
    "  f = sns.histplot(x=coluna, data=dataframe, stat='count', ax=eixos[eixo])\n",
    "  f.set(title=titulos[eixo], xlabel=coluna.capitalize(), ylabel='Frequência Absoluta')\n",
    "\n",
    "  _, max_y_f = f.get_ylim()\n",
    "  max_y = max_y_f if max_y_f > max_y else max_y\n",
    "  f.set(ylim=(0, max_y))\n",
    "\n",
    "  eixo += 1\n",
    "\n",
    " # DataFrame com informações sobre os meses de relacionamento com o Banco:\n",
    "\n",
    "coluna = 'meses_de_relacionamento'\n",
    "titulos = ['Total de meses de relacionamento', 'Total de meses de relaionamento de Clientes Adimplentes', 'Total de meses de relaionamento de Clientes Inadimplentes']\n",
    "\n",
    "eixo = 0\n",
    "max_y = 0\n",
    "figura, eixos = plt.subplots(1,3, figsize=(20, 5), sharex=True)\n",
    "\n",
    "for dataframe in [df, df_adimplente, df_inadimplente]:\n",
    "\n",
    "  f = sns.histplot(x=coluna, data=dataframe, stat='count', ax=eixos[eixo])\n",
    "  f.set(title=titulos[eixo], xlabel=coluna.capitalize(), ylabel='Frequência Absoluta')\n",
    "\n",
    "  _, max_y_f = f.get_ylim()\n",
    "  max_y = max_y_f if max_y_f > max_y else max_y\n",
    "  f.set(ylim=(0, max_y))\n",
    "\n",
    "  eixo += 1\n",
    "\n",
    "# DataFrame com informações sobre a quantidade de produtos bancários nos últimos 12 meses:\n",
    "\n",
    "coluna = 'qtd_produtos'\n",
    "titulos = ['Total da Qtd. de produtos no último Ano', 'Total da Qtd. de produto no último ano de Adimplentes', 'Total da Qtd. de produto no último ano de Inadimplentes']\n",
    "\n",
    "eixo = 0\n",
    "max_y = 0\n",
    "figura, eixos = plt.subplots(1,3, figsize=(20, 5), sharex=True)\n",
    "\n",
    "for dataframe in [df, df_adimplente, df_inadimplente]:\n",
    "\n",
    "  f = sns.histplot(x=coluna, data=dataframe, stat='count', ax=eixos[eixo])\n",
    "  f.set(title=titulos[eixo], xlabel=coluna.capitalize(), ylabel='Frequência Absoluta')\n",
    "\n",
    "  _, max_y_f = f.get_ylim()\n",
    "  max_y = max_y_f if max_y_f > max_y else max_y\n",
    "  f.set(ylim=(0, max_y))\n",
    "\n",
    "  eixo += 1\n",
    "\n",
    "# DataFrame com informações sobre a interatividade com o Bancos nos últimos 12 meses:\n",
    "\n",
    "coluna = 'iteracoes_12m'\n",
    "titulos = ['Total de interações no Último Ano', 'Total de interações no último ano de Adimplentes', 'Total de interações no último ano de Inadimplentes']\n",
    "\n",
    "eixo = 0\n",
    "max_y = 0\n",
    "figura, eixos = plt.subplots(1,3, figsize=(20, 5), sharex=True)\n",
    "\n",
    "for dataframe in [df, df_adimplente, df_inadimplente]:\n",
    "\n",
    "  f = sns.histplot(x=coluna, data=dataframe, stat='count', ax=eixos[eixo])\n",
    "  f.set(title=titulos[eixo], xlabel=coluna.capitalize(), ylabel='Frequência Absoluta')\n",
    "\n",
    "  _, max_y_f = f.get_ylim()\n",
    "  max_y = max_y_f if max_y_f > max_y else max_y\n",
    "  f.set(ylim=(0, max_y))\n",
    "\n",
    "  eixo += 1\n",
    "\n",
    " # DataFrame com informações sobre os meses de inatividade com o Bancos nos últimos 12 meses:\n",
    "\n",
    "coluna = 'meses_inativo_12m'\n",
    "titulos = ['Total de meses inativo no Último Ano', 'Total de meses inativo no último ano de Adimplentes', 'Total de meses inativo no último ano de Inadimplentes']\n",
    "\n",
    "eixo = 0\n",
    "max_y = 0\n",
    "figura, eixos = plt.subplots(1,3, figsize=(20, 5), sharex=True)\n",
    "\n",
    "for dataframe in [df, df_adimplente, df_inadimplente]:\n",
    "\n",
    "  f = sns.histplot(x=coluna, data=dataframe, stat='count', ax=eixos[eixo])\n",
    "  f.set(title=titulos[eixo], xlabel=coluna.capitalize(), ylabel='Frequência Absoluta')\n",
    "\n",
    "  _, max_y_f = f.get_ylim()\n",
    "  max_y = max_y_f if max_y_f > max_y else max_y\n",
    "  f.set(ylim=(0, max_y))\n",
    "\n",
    "  eixo += 1\n",
    "\n",
    " # DataFrame com informações sobre o limite de crédito dos clientes nos últimos 12 meses:\n",
    "\n",
    "coluna = 'limite_credito'\n",
    "titulos = ['Valor do Limite de crédito no Último Ano', 'Valor do limite de crédito no Último Ano de Adimplentes', 'Valor do limite de crédito no Último Ano de Inadimplentes']\n",
    "\n",
    "eixo = 0\n",
    "max_y = 0\n",
    "figura, eixos = plt.subplots(1,3, figsize=(20, 5), sharex=True)\n",
    "\n",
    "for dataframe in [df, df_adimplente, df_inadimplente]:\n",
    "\n",
    "  f = sns.histplot(x=coluna, data=dataframe, stat='count', ax=eixos[eixo])\n",
    "  f.set(title=titulos[eixo], xlabel=coluna.capitalize(), ylabel='Frequência Absoluta')\n",
    "\n",
    "  _, max_y_f = f.get_ylim()\n",
    "  max_y = max_y_f if max_y_f > max_y else max_y\n",
    "  f.set(ylim=(0, max_y))\n",
    "\n",
    "  eixo += 1\n",
    "\n",
    " # DataFrame com informações sobre os valores das transações nos últimos 12 meses:\n",
    "\n",
    "coluna = 'valor_transacoes_12m'\n",
    "titulos = ['Valor das Transações no Último Ano', 'Valor das Transações no Último Ano de Adimplentes', 'Valor das Transações no Último Ano de Inadimplentes']\n",
    "\n",
    "eixo = 0\n",
    "max_y = 0\n",
    "figura, eixos = plt.subplots(1,3, figsize=(20, 5), sharex=True)\n",
    "\n",
    "for dataframe in [df, df_adimplente, df_inadimplente]:\n",
    "\n",
    "  f = sns.histplot(x=coluna, data=dataframe, stat='count', ax=eixos[eixo])\n",
    "  f.set(title=titulos[eixo], xlabel=coluna.capitalize(), ylabel='Frequência Absoluta')\n",
    "\n",
    "  _, max_y_f = f.get_ylim()\n",
    "  max_y = max_y_f if max_y_f > max_y else max_y\n",
    "  f.set(ylim=(0, max_y))\n",
    "\n",
    "  eixo += 1\n",
    "\n",
    "# DataFrame com informações sobre a quantidade de transações nos últimos 12 meses:\n",
    "\n",
    "coluna = 'qtd_transacoes_12m'\n",
    "titulos = ['Qtd. de Transações no Último Ano', 'Qtd. de Transações no Último Ano de Adimplentes', 'Qtd. de Transações no Último Ano de Inadimplentes']\n",
    "\n",
    "eixo = 0\n",
    "max_y = 0\n",
    "figura, eixos = plt.subplots(1,3, figsize=(20, 5), sharex=True)\n",
    "\n",
    "for dataframe in [df, df_adimplente, df_inadimplente]:\n",
    "\n",
    "  f = sns.histplot(x=coluna, data=dataframe, stat='count', ax=eixos[eixo])\n",
    "  f.set(title=titulos[eixo], xlabel=coluna.capitalize(), ylabel='Frequência Absoluta')\n",
    "\n",
    "  _, max_y_f = f.get_ylim()\n",
    "  max_y = max_y_f if max_y_f > max_y else max_y\n",
    "  f.set(ylim=(0, max_y))\n",
    "\n",
    "  eixo += 1\n",
    "\n",
    "figura.show()"
   ]
  },
  {
   "cell_type": "markdown",
   "metadata": {
    "id": "10ud8vxqzqjI"
   },
   "source": [
    "Relação dos Valores de Transações nos Últimos 12 Meses com a Quantidade de Transações nos Últimos 12 Meses"
   ]
  },
  {
   "cell_type": "code",
   "execution_count": null,
   "metadata": {
    "execution": {
     "iopub.execute_input": "2024-06-19T00:54:57.127005Z",
     "iopub.status.busy": "2024-06-19T00:54:57.126674Z"
    },
    "id": "SjqqF940x-lL",
    "trusted": true
   },
   "outputs": [],
   "source": [
    "f = sns.relplot(x='valor_transacoes_12m', y='qtd_transacoes_12m', data=df, hue='default')\n",
    "_ = f.set(\n",
    "    title='Relação entre Valor e Quantidade de Transações no Último Ano',\n",
    "    xlabel='Valor das Transações no Último Ano',\n",
    "    ylabel='Quantidade das Transações no Último Ano'\n",
    "  )"
   ]
  },
  {
   "cell_type": "markdown",
   "metadata": {
    "id": "M9muwk1Y3XEj"
   },
   "source": [
    "#**6. Insights**"
   ]
  },
  {
   "cell_type": "markdown",
   "metadata": {
    "id": "QgG0KRZU4OmS"
   },
   "source": [
    "## **6.1 Introdução**"
   ]
  },
  {
   "cell_type": "markdown",
   "metadata": {
    "id": "vWB4D0n45Kz0"
   },
   "source": [
    "Os dados analisados contêm informações sobre clientes de uma instituição financeira. O objetivo da análise foi entender os motivos pelos quais alguns clientes não honram suas dívidas, baseando-se no comportamento de outros atributos, como salário, escolaridade e movimentações financeiras. Uma descrição completa dos atributos foi realizada acima.\n"
   ]
  },
  {
   "cell_type": "markdown",
   "metadata": {
    "id": "mIb8Kab_AKW7"
   },
   "source": [
    "## **6.2 Insights - dados categóricos:**"
   ]
  },
  {
   "cell_type": "markdown",
   "metadata": {
    "id": "Lhhd8d9JQGr5"
   },
   "source": [
    "O DataFrame contém as seguintes colunas de dados categóricos: `sexo`,`escolaridade`, `estado civil`, `salário anual` é o `tipo de cartão` utilizado. Cada linha representa a informação de um cliente.\n",
    "\n",
    "A variável `sexo` não foi analisada por se tratar de um dado sensível.\n",
    "\n",
    "#### - Insights gerados:\n",
    "\n",
    "- **Escolaridade:** Com a visualização do DataFrame, concluímos que a coluna `escolaridade` mantém uma distribuição semelhante para todas as categorias. A diferença entre uma informação e outra é bem sutil. Portanto, a escolaridade não auxilia na compreensão do motivo pelo qual um cliente se torna inadimplente.\n",
    "\n",
    "\n",
    "- **Estado civil:** Já na análise da coluna `estado_civil`, notamos que a distribuição se mantém para os clientes adimplentes. No entanto, para os clientes inadimplentes, os dados mostram que a quantidade de pessoas solteiras é semelhante à de pessoas casadas. Contudo, em termos de proporção total, há mais clientes inadimplentes solteiros do que casados.\n",
    "\n",
    "\n",
    "- **Salário anual:** Assim como na coluna de escolaridade, a distribuição da coluna `salario_anual` é semelhante tanto para clientes adimplentes quanto para inadimplentes. Portanto, essa variável não oferece informações relevantes para explicar o comportamento dos clientes inadimplentes.\n",
    "\n",
    "\n",
    "- **Tipo de cartão**: De maneira similar às outras colunas mencionadas, a coluna `tipo_cartao` também apresenta uma distribuição semelhante para clientes adimplentes e inadimplentes. Dessa forma, essa variável não contém informações necessárias para a nossa análise.\n",
    "\n",
    "\n"
   ]
  },
  {
   "cell_type": "markdown",
   "metadata": {
    "id": "nsScaV4YdCOw"
   },
   "source": [
    "##**6.3 Insights - dados númericos:**"
   ]
  },
  {
   "cell_type": "markdown",
   "metadata": {
    "id": "OGSiYVMudSM7"
   },
   "source": [
    "O DataFrame contém as seguintes colunas de dados numéricos: `idade`, `dependentes`, `meses_de_relacionamento`, `qtd_produtos`, `iteracoes_12m`, `meses_inativo_12m`, `limite_credito`, `valor_transacoes_12m` e `qtd_transacoes_12m`. Cada linha representa a informação de um cliente.\n",
    "\n",
    "- **Insights gerados:**\n",
    "\n",
    "* **Idade:** Com a análise da coluna `idade`, podemos observar que há um grande volume de clientes na faixa etária de 45 a 55 anos. Somente essa informação não auxilia em nossa análise para entender o comportamento do cliente inadimplente.\n",
    "\n",
    "* **Dependentes:** Observando a coluna `dependentes` do DataFrame, é possível notar uma diferença sutil entre os clientes adimplentes e inadimplentes. Podemos ver um aumento na frequência de clientes inadimplentes em relação aos adimplentes quando o cliente possui cerca de 3 dependentes. Somente essa informação não é suficiente para entender o comportamento do cliente inadimplente.\n",
    "\n",
    "* **Meses de relacionamento:** Com a análise da coluna `meses_de_relacionamento`, podemos notar que a distribuição se mantém semelhante para os clientes adimplentes e inadimplentes, sendo uma variável com informações irrelevantes para a nossa análise.\n",
    "\n",
    "* **Quantidade de produtos:** A análise da coluna `qtd_produtos` revela uma pequena diferença entre clientes adimplentes e inadimplentes. Podemos observar que os clientes inadimplentes possuem uma frequência relativamente maior na aquisição de 5 produtos em relação aos clientes adimplentes. Devido a diferença ser pequena, outros dados devem ser analisados para obter uma resposta conclusiva.\n",
    "\n",
    "* **Interações nos últimos 12 meses:** Através da coluna `iteracoes_12m`, podemos notar um aumento na frequência de interações dos clientes inadimplentes em comparação aos adimplentes. Clientes com 3 interações com o banco nos últimos 12 meses têm uma frequência maior de inadimplência. No entanto, como a diferença é sutil, outros dados devem ser analisados para chegar a uma conclusão.\n",
    "\n",
    "* **Meses de inatividade nos últimos 12 meses:** A análise da coluna\n",
    "`meses_inativo_12m` mostra que a distribuição de clientes adimplentes e inadimplentes se mantém parelha, sendo uma variável com informações irrelevantes para a nossa análise.\n",
    "\n",
    "* **Limite de crédito:** A análise da coluna `limite_credito` mostra que a distribuição dos dados é semelhante para clientes adimplentes e inadimplentes, sendo uma variável com informações irrelevantes para a nossa análise.\n",
    "\n",
    "* **Valor das transações nos últimos 12 meses:** Observando a coluna `valor_transacoes_12m`, é possível ver que a maioria dos valores transacionados pelos clientes inadimplentes está na faixa de R $ 1.000,00 a 3.000,00, gerando um grande volume de dados de clientes inadimplentes.\n",
    "\n",
    "* **Quantidade das transações nos últimos 12 meses:** Com a análise da coluna `qtd_transacoes_12m`, podemos notar que o número de clientes inadimplentes é expressivo na faixa de 20 a 60 transações anuais. Quando os clientes atingem essa quantidade de transações, há uma tendência maior de se tornarem inadimplentes."
   ]
  },
  {
   "cell_type": "markdown",
   "metadata": {
    "id": "aBZu9SuJ_V3y"
   },
   "source": [
    "##**7. Conclusão**"
   ]
  },
  {
   "cell_type": "markdown",
   "metadata": {
    "id": "loHUtCKq_ovP"
   },
   "source": [
    "Com os insights gerados pela análise de dados acima, concluímos quais dados possuem grande influência em nosso DataFrame para explicar o comportamento dos clientes inadimplentes. Os principais fatores identificados são a quantidade e os valores das transações. Conforme o gráfico a seguir, podemos destacar as seguintes informações:\n",
    "\n",
    "- Observando a intensidade de dados de clientes inadimplentes podemos notar que há dois grupos que predominam na escala. E que quanto menor a quantidade de transações e menores os valores transacionados, há mais risco do cliente se tornar inadimplente.\n",
    "\n",
    "Com essa análise, é possível criar estratégias eficientes para diminuir a quantidade de clientes inadimplentes nas instituições financeiras. Por exemplo:\n",
    "\n",
    "* Oferecer programas de educação financeira, com o intuito de auxiliar os clientes a gerenciar melhor os seus gastos.\n",
    "\n",
    "* Ajuste do limite de crédito, com o objetivo de ajustar os limites de crédito dos clientes com base no seu histórico de transações e comportamento de pagamento para evitar o excesso de endividamento.\n",
    "\n",
    "* Comunicação direcionada, como SMS e whatsapp lembrando-os de seus pagamentos pendentes e oferecendo soluções flexíveis para quitar suas dívidas.\n",
    "\n",
    "* Ofertas personalizadas para incentivar o aumento de transações e de valores, como por exemplo: descontos em serviços ou produtos adicionais ao atingir certos níveis de transação.\n",
    "\n",
    "Outro ponto importantíssimo é que ao oferecer soluções proativas e personalizadas, as instituições podem cultivar relacionamentos mais sólidos e duradouros com seus clientes, aumentando a confiança e o engajamento ao longo do tempo.\n"
   ]
  },
  {
   "cell_type": "code",
   "execution_count": null,
   "metadata": {
    "id": "ag_OiHaoAU0W",
    "trusted": true
   },
   "outputs": [],
   "source": [
    "f = sns.relplot(x='valor_transacoes_12m', y='qtd_transacoes_12m', data=df, hue='default')\n",
    "_ = f.set(\n",
    "    title='Relação entre Valor e Quantidade de Transações no Último Ano',\n",
    "    xlabel='Valor das Transações no Último Ano',\n",
    "    ylabel='Quantidade das Transações no Último Ano'\n",
    "  )"
   ]
  }
 ],
 "metadata": {
  "colab": {
   "provenance": [],
   "toc_visible": true
  },
  "kaggle": {
   "accelerator": "none",
   "dataSources": [],
   "dockerImageVersionId": 30698,
   "isGpuEnabled": false,
   "isInternetEnabled": false,
   "language": "python",
   "sourceType": "notebook"
  },
  "kernelspec": {
   "display_name": "Python 3",
   "language": "python",
   "name": "python3"
  },
  "language_info": {
   "codemirror_mode": {
    "name": "ipython",
    "version": 3
   },
   "file_extension": ".py",
   "mimetype": "text/x-python",
   "name": "python",
   "nbconvert_exporter": "python",
   "pygments_lexer": "ipython3",
   "version": "3.12.4"
  }
 },
 "nbformat": 4,
 "nbformat_minor": 4
}
